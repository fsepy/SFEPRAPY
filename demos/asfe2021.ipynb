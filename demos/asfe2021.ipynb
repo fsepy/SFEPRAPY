{
 "cells": [
  {
   "cell_type": "markdown",
   "metadata": {},
   "source": [
    "# An Improved Reliability-Based Approach to Sepcifying Fire Resistance Periods For Buildings in England\n",
    "\n",
    "Analysis documentation for the research topic submitted for ASFE 2021.\n",
    "\n",
    "_2021 April, Ian F._\n",
    "\n",
    "In the design of fire safety provisions for straightforward/common buildings in England the appropriate structural fire resistance is selected from guidance based upon building height and occupancy characteristics. This has been expanded upon in contemporary guidance to include consideration of ventilation conditions informed by work carried out in 2004 by Kirby, et al. in their paper “A new approach to specifying fire resistance periods” and has been implemented in British Standard, BS 9999:2017. In the work of Kirby, et al., a probabilistic time equivalence analysis was carried out using Monte Carlo simulations (MCS). Stochastic parameters were used to produce a range of credible design fires. These were primarily fuel load density, compartment geometry and ventilation opening size. The design fires were generated using the parametric fire model in EN 1991-1-2 and the contribution of sprinklers was considered through a reduced fire load. To link to existing fire resistance recommendations which did not consider ventilation, the safety/reliability target was calibrated to align with statutory guidance, Approved Document B (ADB), using a medium-rise office as an anchor point.\n",
    "\n",
    "This study revisits the work of Kirby et al., resolving key limitations and incorporating advancements in the field to present a new approach to assessing the recommended fire resistance for structures and proposes a revised fire resistance design table for England. To seek alignment with general structural design principles/requirements, as defined in Approved Document A (ADA), safety targets are expressed in function of consequence classes in lieu of building height and use. Other key advancements include improved stochastic parameters, the use of travelling fires where post-flashover parametric fires are unrealistic (i.e., a more explicit consideration of large enclosure fire dynamics), and consideration of sprinkler contribution in the event tree in terms of their ability to mitigate structurally significant fire occurrences.\n",
    "\n",
    "The improved approach presented provides a more up to date method for defining appropriate fire resistance for straightforward/common buildings in England."
   ]
  },
  {
   "cell_type": "code",
   "execution_count": 1,
   "metadata": {},
   "outputs": [],
   "source": [
    "from os import path\n",
    "from sys import platform\n",
    "import numpy as np\n",
    "import pandas as pd\n",
    "import matplotlib.pyplot as plt\n",
    "from scipy.interpolate import interp1d\n",
    "\n",
    "from sfeprapy.mcs2 import MCS2\n",
    "from sfeprapy.mcs.mcs_gen_2 import InputParser\n",
    "\n",
    "plt.style.use('seaborn-white')\n",
    "\n",
    "# User defined, project folder containing inputs\n",
    "if platform == \"darwin\":\n",
    "    fp_project = r'/Volumes/ssd01/projects_fse/ASFE2021/01-analysis'\n",
    "    path.exists(fp_project)\n",
    "elif platform == \"win32\":\n",
    "    fp_project = r'D:\\projects_fse\\!ASFE2021\\01-analysis'\n",
    "    path.exists(fp_project)\n",
    "\n",
    "# Helper function\n",
    "def get_teq_fractile(teq: dict, fr: list = list(range(30, 181, 15))) -> np.ndarray:\n",
    "    \"\"\"Prints CFD of given time equivalence values\"\"\"\n",
    "    hist, edges = np.histogram(teq, bins=np.arange(0, max(361, max(fr)+0.5), 0.5))\n",
    "    x, y = (edges[:-1] + edges[1:]) / 2, np.cumsum(hist / np.sum(hist))\n",
    "    func_teq = interp1d(x, y, bounds_error=False)\n",
    "    return func_teq(fr)\n",
    "\n",
    "# Helper function\n",
    "def get_teq_fractile_dict(teq_dict: dict, fr: list = list(range(30, 181, 15)), is_print: bool = True) -> dict:\n",
    "    \"\"\"Prints CFD of given time equivalence values\"\"\"\n",
    "    res_dict = dict(Time=fr)\n",
    "    for case, teq in teq_dict.items():\n",
    "        res_dict[case] = get_teq_fractile(teq=teq, fr=fr)\n",
    "    if is_print is True:\n",
    "        print(pd.DataFrame.from_dict(res_dict))\n",
    "    return res_dict"
   ]
  },
  {
   "cell_type": "markdown",
   "metadata": {},
   "source": [
    "## Benchmark against Kirby et al"
   ]
  },
  {
   "cell_type": "markdown",
   "metadata": {},
   "source": [
    "### Run time equivalence Monte Carlo simulations\n",
    "\n",
    "The analysis is comprised of three cases: Office, Resiential and Retail. All input parameters are inline with Kirby et al."
   ]
  },
  {
   "cell_type": "markdown",
   "metadata": {},
   "source": [
    "#### Inputs"
   ]
  },
  {
   "cell_type": "code",
   "execution_count": 2,
   "metadata": {},
   "outputs": [
    {
     "data": {
      "text/html": [
       "<div>\n",
       "<style scoped>\n",
       "    .dataframe tbody tr th:only-of-type {\n",
       "        vertical-align: middle;\n",
       "    }\n",
       "\n",
       "    .dataframe tbody tr th {\n",
       "        vertical-align: top;\n",
       "    }\n",
       "\n",
       "    .dataframe thead th {\n",
       "        text-align: right;\n",
       "    }\n",
       "</style>\n",
       "<table border=\"1\" class=\"dataframe\">\n",
       "  <thead>\n",
       "    <tr style=\"text-align: right;\">\n",
       "      <th></th>\n",
       "      <th>Residential</th>\n",
       "      <th>Office</th>\n",
       "      <th>Retail</th>\n",
       "    </tr>\n",
       "    <tr>\n",
       "      <th>case_name</th>\n",
       "      <th></th>\n",
       "      <th></th>\n",
       "      <th></th>\n",
       "    </tr>\n",
       "  </thead>\n",
       "  <tbody>\n",
       "    <tr>\n",
       "      <th>fire_load_density:dist</th>\n",
       "      <td>gumbel_r_</td>\n",
       "      <td>gumbel_r_</td>\n",
       "      <td>gumbel_r_</td>\n",
       "    </tr>\n",
       "    <tr>\n",
       "      <th>fire_load_density:mean</th>\n",
       "      <td>780</td>\n",
       "      <td>420</td>\n",
       "      <td>600</td>\n",
       "    </tr>\n",
       "    <tr>\n",
       "      <th>fire_load_density:sd</th>\n",
       "      <td>234</td>\n",
       "      <td>126</td>\n",
       "      <td>180</td>\n",
       "    </tr>\n",
       "    <tr>\n",
       "      <th>fire_hrr_density:dist</th>\n",
       "      <td>uniform_</td>\n",
       "      <td>uniform_</td>\n",
       "      <td>uniform_</td>\n",
       "    </tr>\n",
       "    <tr>\n",
       "      <th>fire_hrr_density:lbound</th>\n",
       "      <td>0.32</td>\n",
       "      <td>0.15</td>\n",
       "      <td>0.27</td>\n",
       "    </tr>\n",
       "    <tr>\n",
       "      <th>fire_hrr_density:ubound</th>\n",
       "      <td>0.57</td>\n",
       "      <td>0.65</td>\n",
       "      <td>1</td>\n",
       "    </tr>\n",
       "    <tr>\n",
       "      <th>room_height:dist</th>\n",
       "      <td>constant_</td>\n",
       "      <td>uniform_</td>\n",
       "      <td>uniform_</td>\n",
       "    </tr>\n",
       "    <tr>\n",
       "      <th>room_height:lbound</th>\n",
       "      <td>2.4</td>\n",
       "      <td>2.8</td>\n",
       "      <td>4.5</td>\n",
       "    </tr>\n",
       "    <tr>\n",
       "      <th>room_height:ubound</th>\n",
       "      <td>2.4</td>\n",
       "      <td>4.5</td>\n",
       "      <td>7</td>\n",
       "    </tr>\n",
       "    <tr>\n",
       "      <th>room_floor_area:dist</th>\n",
       "      <td>uniform_</td>\n",
       "      <td>uniform_</td>\n",
       "      <td>constant_</td>\n",
       "    </tr>\n",
       "    <tr>\n",
       "      <th>room_floor_area:lbound</th>\n",
       "      <td>9</td>\n",
       "      <td>50</td>\n",
       "      <td>400</td>\n",
       "    </tr>\n",
       "    <tr>\n",
       "      <th>room_floor_area:ubound</th>\n",
       "      <td>30</td>\n",
       "      <td>1000</td>\n",
       "      <td>400</td>\n",
       "    </tr>\n",
       "    <tr>\n",
       "      <th>room_breadth_depth_ratio:dist</th>\n",
       "      <td>uniform_</td>\n",
       "      <td>uniform_</td>\n",
       "      <td>uniform_</td>\n",
       "    </tr>\n",
       "    <tr>\n",
       "      <th>room_breadth_depth_ratio:lbound</th>\n",
       "      <td>0.312</td>\n",
       "      <td>0.312</td>\n",
       "      <td>0.312</td>\n",
       "    </tr>\n",
       "    <tr>\n",
       "      <th>room_breadth_depth_ratio:ubound</th>\n",
       "      <td>0.712</td>\n",
       "      <td>0.712</td>\n",
       "      <td>0.712</td>\n",
       "    </tr>\n",
       "    <tr>\n",
       "      <th>window_height_room_height_ratio:dist</th>\n",
       "      <td>uniform_</td>\n",
       "      <td>uniform_</td>\n",
       "      <td>uniform_</td>\n",
       "    </tr>\n",
       "    <tr>\n",
       "      <th>window_height_room_height_ratio:lbound</th>\n",
       "      <td>0.3</td>\n",
       "      <td>0.3</td>\n",
       "      <td>0.5</td>\n",
       "    </tr>\n",
       "    <tr>\n",
       "      <th>window_height_room_height_ratio:ubound</th>\n",
       "      <td>0.9</td>\n",
       "      <td>0.9</td>\n",
       "      <td>1</td>\n",
       "    </tr>\n",
       "    <tr>\n",
       "      <th>window_area_floor_ratio:dist</th>\n",
       "      <td>uniform_</td>\n",
       "      <td>uniform_</td>\n",
       "      <td>uniform_</td>\n",
       "    </tr>\n",
       "    <tr>\n",
       "      <th>window_area_floor_ratio:lbound</th>\n",
       "      <td>0.05</td>\n",
       "      <td>0.05</td>\n",
       "      <td>0.05</td>\n",
       "    </tr>\n",
       "    <tr>\n",
       "      <th>window_area_floor_ratio:ubound</th>\n",
       "      <td>0.2</td>\n",
       "      <td>0.4</td>\n",
       "      <td>0.4</td>\n",
       "    </tr>\n",
       "  </tbody>\n",
       "</table>\n",
       "</div>"
      ],
      "text/plain": [
       "                                       Residential     Office     Retail\n",
       "case_name                                                               \n",
       "fire_load_density:dist                   gumbel_r_  gumbel_r_  gumbel_r_\n",
       "fire_load_density:mean                         780        420        600\n",
       "fire_load_density:sd                           234        126        180\n",
       "fire_hrr_density:dist                     uniform_   uniform_   uniform_\n",
       "fire_hrr_density:lbound                       0.32       0.15       0.27\n",
       "fire_hrr_density:ubound                       0.57       0.65          1\n",
       "room_height:dist                         constant_   uniform_   uniform_\n",
       "room_height:lbound                             2.4        2.8        4.5\n",
       "room_height:ubound                             2.4        4.5          7\n",
       "room_floor_area:dist                      uniform_   uniform_  constant_\n",
       "room_floor_area:lbound                           9         50        400\n",
       "room_floor_area:ubound                          30       1000        400\n",
       "room_breadth_depth_ratio:dist             uniform_   uniform_   uniform_\n",
       "room_breadth_depth_ratio:lbound              0.312      0.312      0.312\n",
       "room_breadth_depth_ratio:ubound              0.712      0.712      0.712\n",
       "window_height_room_height_ratio:dist      uniform_   uniform_   uniform_\n",
       "window_height_room_height_ratio:lbound         0.3        0.3        0.5\n",
       "window_height_room_height_ratio:ubound         0.9        0.9          1\n",
       "window_area_floor_ratio:dist              uniform_   uniform_   uniform_\n",
       "window_area_floor_ratio:lbound                0.05       0.05       0.05\n",
       "window_area_floor_ratio:ubound                 0.2        0.4        0.4"
      ]
     },
     "execution_count": 2,
     "metadata": {},
     "output_type": "execute_result"
    }
   ],
   "source": [
    "fn = '0-trial_00.xlsx'\n",
    "\n",
    "if platform == 'win32':\n",
    "    fp_inputs = path.realpath(path.join(r'D:\\projects_fse\\!ASFE2021\\01-analysis', fn[2:10], fn))\n",
    "elif platform == 'darwin':\n",
    "    fp_inputs = path.realpath(path.join(r'/Volumes/ssd01/projects_fse/ASFE2021/01-analysis', fn[2:10], fn))\n",
    "\n",
    "df_inputs = pd.read_excel(fp_inputs, index_col='case_name')\n",
    "df_inputs.loc[[\n",
    "    'fire_load_density:dist', 'fire_load_density:mean', 'fire_load_density:sd', \n",
    "    'fire_hrr_density:dist', 'fire_hrr_density:lbound', 'fire_hrr_density:ubound', \n",
    "    'room_height:dist', 'room_height:lbound', 'room_height:ubound', \n",
    "    'room_floor_area:dist', 'room_floor_area:lbound', 'room_floor_area:ubound', \n",
    "    'room_breadth_depth_ratio:dist', 'room_breadth_depth_ratio:lbound', 'room_breadth_depth_ratio:ubound', \n",
    "    'window_height_room_height_ratio:dist', 'window_height_room_height_ratio:lbound', 'window_height_room_height_ratio:ubound', \n",
    "    'window_area_floor_ratio:dist', 'window_area_floor_ratio:lbound', 'window_area_floor_ratio:ubound'\n",
    "]]"
   ]
  },
  {
   "cell_type": "markdown",
   "metadata": {},
   "source": [
    "#### Simulation"
   ]
  },
  {
   "cell_type": "code",
   "execution_count": 3,
   "metadata": {
    "tags": []
   },
   "outputs": [
    {
     "name": "stdout",
     "output_type": "stream",
     "text": [
      "CASE                    : Residential\n",
      "NO. OF THREADS          : 6\n",
      "NO. OF SIMULATIONS      : 5000\n"
     ]
    },
    {
     "name": "stderr",
     "output_type": "stream",
     "text": [
      "100%|█████████████████| 5000/5000 [00:02<00:00, 2466.05it/s]\n"
     ]
    },
    {
     "name": "stdout",
     "output_type": "stream",
     "text": [
      "CASE                    : Office\n",
      "NO. OF THREADS          : 6\n",
      "NO. OF SIMULATIONS      : 5000\n"
     ]
    },
    {
     "name": "stderr",
     "output_type": "stream",
     "text": [
      "100%|█████████████████| 5000/5000 [00:02<00:00, 2482.68it/s]\n"
     ]
    },
    {
     "name": "stdout",
     "output_type": "stream",
     "text": [
      "CASE                    : Retail\n",
      "NO. OF THREADS          : 6\n",
      "NO. OF SIMULATIONS      : 5000\n"
     ]
    },
    {
     "name": "stderr",
     "output_type": "stream",
     "text": [
      "100%|█████████████████| 5000/5000 [00:02<00:00, 2484.73it/s]\n"
     ]
    }
   ],
   "source": [
    "# Run MCS\n",
    "cases_to_run=['Office', 'Residential', 'Retail']\n",
    "\n",
    "mcs2 = MCS2(print_stats=False)\n",
    "mcs2.inputs = fp_inputs\n",
    "mcs2.n_threads = 6\n",
    "mcs2.run_mcs(cases_to_run=cases_to_run)"
   ]
  },
  {
   "cell_type": "markdown",
   "metadata": {},
   "source": [
    "#### Results\n",
    "\n",
    "Inspect simulation results to ensure the simulations are complete successfully."
   ]
  },
  {
   "cell_type": "code",
   "execution_count": 4,
   "metadata": {},
   "outputs": [
    {
     "data": {
      "image/png": "[encoded data removed]",
      "text/plain": [
       "<Figure size 252x252 with 1 Axes>"
      ]
     },
     "metadata": {
      "needs_background": "light"
     },
     "output_type": "display_data"
    }
   ],
   "source": [
    "# Inspect simulation results\n",
    "mcs_out = mcs2.mcs_out\n",
    "dict_teq = {case: mcs_out.loc[mcs_out['case_name'] == case][\"solver_time_equivalence_solved\"] / 60.0 for case in cases_to_run}\n",
    "dict_teq_fractile = get_teq_fractile_dict(dict_teq, is_print=False, fr=np.linspace(0, 180, 100))\n",
    "\n",
    "fig, ax = plt.subplots(figsize=(3.5,3.5))\n",
    "for case in cases_to_run:\n",
    "    ax.plot(dict_teq_fractile['Time'], dict_teq_fractile[case], label=case)\n",
    "ax.legend().set_visible(True)\n",
    "ax.set_xlabel('Time [$min$]')\n",
    "ax.set_ylabel('CFD')\n",
    "ax.set_xlim(30, 180)\n",
    "ax.set_ylim(0, 1)\n",
    "ax.set_xticks(np.arange(30, 181, 15,))\n",
    "ax.set_yticks(np.arange(0, 1.1, 0.1))\n",
    "ax.grid(True, ls='--')"
   ]
  },
  {
   "cell_type": "markdown",
   "metadata": {},
   "source": [
    "It is obvious Residential produced much worse time equivalence results comparing to the other two, primarily due to higher fuel load density."
   ]
  },
  {
   "cell_type": "markdown",
   "metadata": {},
   "source": [
    "#### Comparing agsint Kirby et al"
   ]
  },
  {
   "cell_type": "code",
   "execution_count": 23,
   "metadata": {},
   "outputs": [],
   "source": [
    "data = {\n",
    "    'Dwelling': {\n",
    "        'Equivalent of time exposure': [60, 90, 105, 120, 135, 150],\n",
    "        'CDF (Kirby et al)': [0.2, 0.464, 0.8, 0.928, 0.982, 0.996],\n",
    "        'CDF (SFEPRAPY)': get_teq_fractile(\n",
    "            teq=mcs_out.loc[mcs_out['case_name'] == 'Residential'][\"solver_time_equivalence_solved\"] / 60.0,\n",
    "            fr=[60, 90, 105, 120, 135, 150]\n",
    "        )\n",
    "    },\n",
    "    'Office': {\n",
    "        'Equivalent of time exposure': [30, 60, 90, 120, 150],\n",
    "        'CDF (Kirby et al)': [0.464, 0.8, 0.928, 0.982, 0.996],\n",
    "        'CDF (SFEPRAPY)': get_teq_fractile(\n",
    "            teq=mcs_out.loc[mcs_out['case_name'] == 'Office'][\"solver_time_equivalence_solved\"] / 60.0,\n",
    "            fr=[30, 60, 90, 120, 150]\n",
    "        )\n",
    "    },\n",
    "    'Retail': {\n",
    "        'Equivalent of time exposure': [30, 45, 75, 105, 135, 180],\n",
    "        'CDF (Kirby et al)': [0.2, 0.464, 0.8, 0.928, 0.982, 0.996],\n",
    "        'CDF (SFEPRAPY)': get_teq_fractile(\n",
    "            teq=mcs_out.loc[mcs_out['case_name'] == 'Retail'][\"solver_time_equivalence_solved\"] / 60.0,\n",
    "            fr=[30, 45, 75, 105, 135, 180]\n",
    "        )\n",
    "    }\n",
    "}"
   ]
  },
  {
   "cell_type": "code",
   "execution_count": 30,
   "metadata": {},
   "outputs": [
    {
     "data": {
      "image/png": "[encoded data removed]",
      "text/plain": [
       "<Figure size 777.6x252 with 3 Axes>"
      ]
     },
     "metadata": {
      "needs_background": "light"
     },
     "output_type": "display_data"
    }
   ],
   "source": [
    "fig, axes = plt.subplots(nrows=1, ncols=3, figsize=(3.6*3, 3.5), sharex=True, sharey=True)\n",
    "\n",
    "for i, k in enumerate(data.keys()):\n",
    "    ax, v = axes[i], data[k]\n",
    "    ax.scatter(v['Equivalent of time exposure'], v['CDF (Kirby et al)'], label='CDF (Kirby et al)')\n",
    "    ax.scatter(v['Equivalent of time exposure'], v['CDF (SFEPRAPY)'], label='CDF (SFEPRAPY)')\n",
    "    ax.legend(loc=4).set_visible(True)"
   ]
  },
  {
   "cell_type": "code",
   "execution_count": null,
   "metadata": {},
   "outputs": [],
   "source": []
  }
 ],
 "metadata": {
  "kernelspec": {
   "display_name": "Python 3.7.4 64-bit ('dev': conda)",
   "language": "python",
   "name": "python37464bitdevconda5bfa68e9eb9345c8bd61969d015fe522"
  },
  "language_info": {
   "codemirror_mode": {
    "name": "ipython",
    "version": 3
   },
   "file_extension": ".py",
   "mimetype": "text/x-python",
   "name": "python",
   "nbconvert_exporter": "python",
   "pygments_lexer": "ipython3",
   "version": "3.7.4"
  }
 },
 "nbformat": 4,
 "nbformat_minor": 4
}
