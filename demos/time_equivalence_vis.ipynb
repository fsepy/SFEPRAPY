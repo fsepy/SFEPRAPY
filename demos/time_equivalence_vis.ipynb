{
 "cells": [
  {
   "cell_type": "code",
   "execution_count": 1,
   "metadata": {},
   "outputs": [],
   "source": [
    "from manim import *"
   ]
  },
  {
   "cell_type": "code",
   "execution_count": 2,
   "metadata": {
    "pycharm": {
     "name": "#%%\n"
    }
   },
   "outputs": [],
   "source": [
    "# %manim -h"
   ]
  },
  {
   "cell_type": "code",
   "execution_count": 3,
   "metadata": {
    "pycharm": {
     "name": "#%%\n"
    }
   },
   "outputs": [
    {
     "name": "stderr",
     "output_type": "stream",
     "text": [
      "                                                                                                                       \r"
     ]
    },
    {
     "data": {
      "text/html": [
       "<video src=\"media\\jupyter\\9827af72824e14346d09c011b4fe4707326849e3.mp4\" controls autoplay loop style=\"max-width: 25vw;\"  >\n",
       "      Your browser does not support the <code>video</code> element.\n",
       "    </video>"
      ],
      "text/plain": [
       "<IPython.core.display.Video object>"
      ]
     },
     "metadata": {},
     "output_type": "display_data"
    }
   ],
   "source": [
    "%%manim SquareToCircle -qm -v WARNING\n",
    "\n",
    "class SquareToCircle(Scene):\n",
    "    def construct(self):\n",
    "        circle = Circle()\n",
    "        square = Square()\n",
    "        square.flip(RIGHT)\n",
    "        square.rotate(-3 * TAU / 8)\n",
    "        circle.set_fill(PINK, opacity=0.5)\n",
    "\n",
    "        self.play(Create(square))\n",
    "        self.play(Transform(square, circle))\n",
    "        self.play(FadeOut(square))"
   ]
  },
  {
   "cell_type": "code",
   "execution_count": 4,
   "metadata": {},
   "outputs": [
    {
     "name": "stderr",
     "output_type": "stream",
     "text": [
      "                                                                                                                       \r"
     ]
    },
    {
     "data": {
      "text/html": [
       "<video src=\"media\\jupyter\\62b109dea3a3b522c82d60170ea919398715fdf3.mp4\" controls autoplay loop style=\"max-width: 25vw;\"  >\n",
       "      Your browser does not support the <code>video</code> element.\n",
       "    </video>"
      ],
      "text/plain": [
       "<IPython.core.display.Video object>"
      ]
     },
     "metadata": {},
     "output_type": "display_data"
    }
   ],
   "source": [
    "%%manim WarpSquare -qm -v WARNING\n",
    "\n",
    "class WarpSquare(Scene):\n",
    "    def construct(self):\n",
    "        square = Square()\n",
    "        self.play(\n",
    "            ApplyPointwiseFunction(\n",
    "                lambda point: complex_to_R3(np.exp(R3_to_complex(point))), square\n",
    "            )\n",
    "        )\n",
    "        self.wait()"
   ]
  },
  {
   "cell_type": "code",
   "execution_count": 5,
   "metadata": {},
   "outputs": [
    {
     "name": "stderr",
     "output_type": "stream",
     "text": [
      "c:\\users\\ianfu\\miniconda3\\envs\\dev\\lib\\site-packages\\manim\\mobject\\svg\\svg_mobject.py:263: UserWarning: media/Tex/a2565ed5caf5c5bf.svg contains a reference to id #g0-84, which is not recognized\n",
      "  warnings.warn(warning_text)\n",
      "c:\\users\\ianfu\\miniconda3\\envs\\dev\\lib\\site-packages\\manim\\mobject\\svg\\svg_mobject.py:263: UserWarning: media/Tex/a2565ed5caf5c5bf.svg contains a reference to id #g0-104, which is not recognized\n",
      "  warnings.warn(warning_text)\n",
      "c:\\users\\ianfu\\miniconda3\\envs\\dev\\lib\\site-packages\\manim\\mobject\\svg\\svg_mobject.py:263: UserWarning: media/Tex/a2565ed5caf5c5bf.svg contains a reference to id #g0-105, which is not recognized\n",
      "  warnings.warn(warning_text)\n",
      "c:\\users\\ianfu\\miniconda3\\envs\\dev\\lib\\site-packages\\manim\\mobject\\svg\\svg_mobject.py:263: UserWarning: media/Tex/a2565ed5caf5c5bf.svg contains a reference to id #g0-115, which is not recognized\n",
      "  warnings.warn(warning_text)\n",
      "c:\\users\\ianfu\\miniconda3\\envs\\dev\\lib\\site-packages\\manim\\mobject\\svg\\svg_mobject.py:263: UserWarning: media/Tex/a2565ed5caf5c5bf.svg contains a reference to id #g0-111, which is not recognized\n",
      "  warnings.warn(warning_text)\n",
      "c:\\users\\ianfu\\miniconda3\\envs\\dev\\lib\\site-packages\\manim\\mobject\\svg\\svg_mobject.py:263: UserWarning: media/Tex/a2565ed5caf5c5bf.svg contains a reference to id #g0-109, which is not recognized\n",
      "  warnings.warn(warning_text)\n",
      "c:\\users\\ianfu\\miniconda3\\envs\\dev\\lib\\site-packages\\manim\\mobject\\svg\\svg_mobject.py:263: UserWarning: media/Tex/a2565ed5caf5c5bf.svg contains a reference to id #g0-101, which is not recognized\n",
      "  warnings.warn(warning_text)\n",
      "c:\\users\\ianfu\\miniconda3\\envs\\dev\\lib\\site-packages\\manim\\mobject\\svg\\svg_mobject.py:263: UserWarning: media/Tex/a2565ed5caf5c5bf.svg contains a reference to id #g0-116, which is not recognized\n",
      "  warnings.warn(warning_text)\n",
      "c:\\users\\ianfu\\miniconda3\\envs\\dev\\lib\\site-packages\\manim\\mobject\\svg\\svg_mobject.py:263: UserWarning: media/Tex/a2565ed5caf5c5bf.svg contains a reference to id #g0-120, which is not recognized\n",
      "  warnings.warn(warning_text)\n",
      "c:\\users\\ianfu\\miniconda3\\envs\\dev\\lib\\site-packages\\manim\\mobject\\svg\\svg_mobject.py:263: UserWarning: media/Tex/0b52ef4d7c58e3c5.svg contains a reference to id #g0-84, which is not recognized\n",
      "  warnings.warn(warning_text)\n",
      "c:\\users\\ianfu\\miniconda3\\envs\\dev\\lib\\site-packages\\manim\\mobject\\svg\\svg_mobject.py:263: UserWarning: media/Tex/0b52ef4d7c58e3c5.svg contains a reference to id #g0-104, which is not recognized\n",
      "  warnings.warn(warning_text)\n",
      "c:\\users\\ianfu\\miniconda3\\envs\\dev\\lib\\site-packages\\manim\\mobject\\svg\\svg_mobject.py:263: UserWarning: media/Tex/0b52ef4d7c58e3c5.svg contains a reference to id #g0-105, which is not recognized\n",
      "  warnings.warn(warning_text)\n",
      "c:\\users\\ianfu\\miniconda3\\envs\\dev\\lib\\site-packages\\manim\\mobject\\svg\\svg_mobject.py:263: UserWarning: media/Tex/0b52ef4d7c58e3c5.svg contains a reference to id #g0-115, which is not recognized\n",
      "  warnings.warn(warning_text)\n",
      "c:\\users\\ianfu\\miniconda3\\envs\\dev\\lib\\site-packages\\manim\\mobject\\svg\\svg_mobject.py:263: UserWarning: media/Tex/0b52ef4d7c58e3c5.svg contains a reference to id #g0-111, which is not recognized\n",
      "  warnings.warn(warning_text)\n",
      "c:\\users\\ianfu\\miniconda3\\envs\\dev\\lib\\site-packages\\manim\\mobject\\svg\\svg_mobject.py:263: UserWarning: media/Tex/0b52ef4d7c58e3c5.svg contains a reference to id #g0-109, which is not recognized\n",
      "  warnings.warn(warning_text)\n",
      "c:\\users\\ianfu\\miniconda3\\envs\\dev\\lib\\site-packages\\manim\\mobject\\svg\\svg_mobject.py:263: UserWarning: media/Tex/0b52ef4d7c58e3c5.svg contains a reference to id #g0-101, which is not recognized\n",
      "  warnings.warn(warning_text)\n"
     ]
    },
    {
     "ename": "IndexError",
     "evalue": "list index out of range",
     "output_type": "error",
     "traceback": [
      "\u001B[1;31m---------------------------------------------------------------------------\u001B[0m",
      "\u001B[1;31mIndexError\u001B[0m                                Traceback (most recent call last)",
      "\u001B[1;32m<ipython-input-5-67a92af833c3>\u001B[0m in \u001B[0;36m<module>\u001B[1;34m\u001B[0m\n\u001B[1;32m----> 1\u001B[1;33m \u001B[0mget_ipython\u001B[0m\u001B[1;33m(\u001B[0m\u001B[1;33m)\u001B[0m\u001B[1;33m.\u001B[0m\u001B[0mrun_cell_magic\u001B[0m\u001B[1;33m(\u001B[0m\u001B[1;34m'manim'\u001B[0m\u001B[1;33m,\u001B[0m \u001B[1;34m'WriteStuff -qm -v WARNING'\u001B[0m\u001B[1;33m,\u001B[0m \u001B[1;34m'\\nclass WriteStuff(Scene):\\n    def construct(self):\\n        example_text = Tex(\"This is some text\", tex_to_color_map={\"text\": YELLOW})\\n        example_tex = MathTex(\\n            \"\\\\\\\\sum_{k=1}^\\\\\\\\infty {1 \\\\\\\\over k^2} = {\\\\\\\\pi^2 \\\\\\\\over 6}\",\\n        )\\n        group = VGroup(example_text, example_tex)\\n        group.arrange(DOWN)\\n        group.set_width(config[\"frame_width\"] - 2 * LARGE_BUFF)\\n\\n        self.play(Write(example_text))\\n        self.play(Write(example_tex))\\n        self.wait()\\n'\u001B[0m\u001B[1;33m)\u001B[0m\u001B[1;33m\u001B[0m\u001B[1;33m\u001B[0m\u001B[0m\n\u001B[0m",
      "\u001B[1;32mc:\\users\\ianfu\\miniconda3\\envs\\dev\\lib\\site-packages\\IPython\\core\\interactiveshell.py\u001B[0m in \u001B[0;36mrun_cell_magic\u001B[1;34m(self, magic_name, line, cell)\u001B[0m\n\u001B[0;32m   2379\u001B[0m             \u001B[1;32mwith\u001B[0m \u001B[0mself\u001B[0m\u001B[1;33m.\u001B[0m\u001B[0mbuiltin_trap\u001B[0m\u001B[1;33m:\u001B[0m\u001B[1;33m\u001B[0m\u001B[1;33m\u001B[0m\u001B[0m\n\u001B[0;32m   2380\u001B[0m                 \u001B[0margs\u001B[0m \u001B[1;33m=\u001B[0m \u001B[1;33m(\u001B[0m\u001B[0mmagic_arg_s\u001B[0m\u001B[1;33m,\u001B[0m \u001B[0mcell\u001B[0m\u001B[1;33m)\u001B[0m\u001B[1;33m\u001B[0m\u001B[1;33m\u001B[0m\u001B[0m\n\u001B[1;32m-> 2381\u001B[1;33m                 \u001B[0mresult\u001B[0m \u001B[1;33m=\u001B[0m \u001B[0mfn\u001B[0m\u001B[1;33m(\u001B[0m\u001B[1;33m*\u001B[0m\u001B[0margs\u001B[0m\u001B[1;33m,\u001B[0m \u001B[1;33m**\u001B[0m\u001B[0mkwargs\u001B[0m\u001B[1;33m)\u001B[0m\u001B[1;33m\u001B[0m\u001B[1;33m\u001B[0m\u001B[0m\n\u001B[0m\u001B[0;32m   2382\u001B[0m             \u001B[1;32mreturn\u001B[0m \u001B[0mresult\u001B[0m\u001B[1;33m\u001B[0m\u001B[1;33m\u001B[0m\u001B[0m\n\u001B[0;32m   2383\u001B[0m \u001B[1;33m\u001B[0m\u001B[0m\n",
      "\u001B[1;32m<decorator-gen-864>\u001B[0m in \u001B[0;36mmanim\u001B[1;34m(self, line, cell, local_ns)\u001B[0m\n",
      "\u001B[1;32mc:\\users\\ianfu\\miniconda3\\envs\\dev\\lib\\site-packages\\IPython\\core\\magic.py\u001B[0m in \u001B[0;36m<lambda>\u001B[1;34m(f, *a, **k)\u001B[0m\n\u001B[0;32m    185\u001B[0m     \u001B[1;31m# but it's overkill for just that one bit of state.\u001B[0m\u001B[1;33m\u001B[0m\u001B[1;33m\u001B[0m\u001B[1;33m\u001B[0m\u001B[0m\n\u001B[0;32m    186\u001B[0m     \u001B[1;32mdef\u001B[0m \u001B[0mmagic_deco\u001B[0m\u001B[1;33m(\u001B[0m\u001B[0marg\u001B[0m\u001B[1;33m)\u001B[0m\u001B[1;33m:\u001B[0m\u001B[1;33m\u001B[0m\u001B[1;33m\u001B[0m\u001B[0m\n\u001B[1;32m--> 187\u001B[1;33m         \u001B[0mcall\u001B[0m \u001B[1;33m=\u001B[0m \u001B[1;32mlambda\u001B[0m \u001B[0mf\u001B[0m\u001B[1;33m,\u001B[0m \u001B[1;33m*\u001B[0m\u001B[0ma\u001B[0m\u001B[1;33m,\u001B[0m \u001B[1;33m**\u001B[0m\u001B[0mk\u001B[0m\u001B[1;33m:\u001B[0m \u001B[0mf\u001B[0m\u001B[1;33m(\u001B[0m\u001B[1;33m*\u001B[0m\u001B[0ma\u001B[0m\u001B[1;33m,\u001B[0m \u001B[1;33m**\u001B[0m\u001B[0mk\u001B[0m\u001B[1;33m)\u001B[0m\u001B[1;33m\u001B[0m\u001B[1;33m\u001B[0m\u001B[0m\n\u001B[0m\u001B[0;32m    188\u001B[0m \u001B[1;33m\u001B[0m\u001B[0m\n\u001B[0;32m    189\u001B[0m         \u001B[1;32mif\u001B[0m \u001B[0mcallable\u001B[0m\u001B[1;33m(\u001B[0m\u001B[0marg\u001B[0m\u001B[1;33m)\u001B[0m\u001B[1;33m:\u001B[0m\u001B[1;33m\u001B[0m\u001B[1;33m\u001B[0m\u001B[0m\n",
      "\u001B[1;32mc:\\users\\ianfu\\miniconda3\\envs\\dev\\lib\\site-packages\\manim\\utils\\ipython_magic.py\u001B[0m in \u001B[0;36mmanim\u001B[1;34m(self, line, cell, local_ns)\u001B[0m\n\u001B[0;32m     79\u001B[0m                 \u001B[0mconfig\u001B[0m\u001B[1;33m.\u001B[0m\u001B[0mdigest_args\u001B[0m\u001B[1;33m(\u001B[0m\u001B[0margs\u001B[0m\u001B[1;33m)\u001B[0m\u001B[1;33m\u001B[0m\u001B[1;33m\u001B[0m\u001B[0m\n\u001B[0;32m     80\u001B[0m \u001B[1;33m\u001B[0m\u001B[0m\n\u001B[1;32m---> 81\u001B[1;33m                 \u001B[0mexec\u001B[0m\u001B[1;33m(\u001B[0m\u001B[1;34mf\"{config['scene_names'][0]}().render()\"\u001B[0m\u001B[1;33m,\u001B[0m \u001B[0mlocal_ns\u001B[0m\u001B[1;33m)\u001B[0m\u001B[1;33m\u001B[0m\u001B[1;33m\u001B[0m\u001B[0m\n\u001B[0m\u001B[0;32m     82\u001B[0m                 \u001B[0mlocal_path\u001B[0m \u001B[1;33m=\u001B[0m \u001B[0mPath\u001B[0m\u001B[1;33m(\u001B[0m\u001B[0mconfig\u001B[0m\u001B[1;33m[\u001B[0m\u001B[1;34m\"output_file\"\u001B[0m\u001B[1;33m]\u001B[0m\u001B[1;33m)\u001B[0m\u001B[1;33m.\u001B[0m\u001B[0mrelative_to\u001B[0m\u001B[1;33m(\u001B[0m\u001B[0mPath\u001B[0m\u001B[1;33m.\u001B[0m\u001B[0mcwd\u001B[0m\u001B[1;33m(\u001B[0m\u001B[1;33m)\u001B[0m\u001B[1;33m)\u001B[0m\u001B[1;33m\u001B[0m\u001B[1;33m\u001B[0m\u001B[0m\n\u001B[0;32m     83\u001B[0m                 tmpfile = (\n",
      "\u001B[1;32m<string>\u001B[0m in \u001B[0;36m<module>\u001B[1;34m\u001B[0m\n",
      "\u001B[1;32mc:\\users\\ianfu\\miniconda3\\envs\\dev\\lib\\site-packages\\manim\\scene\\scene.py\u001B[0m in \u001B[0;36mrender\u001B[1;34m(self, preview)\u001B[0m\n\u001B[0;32m    181\u001B[0m         \u001B[0mself\u001B[0m\u001B[1;33m.\u001B[0m\u001B[0msetup\u001B[0m\u001B[1;33m(\u001B[0m\u001B[1;33m)\u001B[0m\u001B[1;33m\u001B[0m\u001B[1;33m\u001B[0m\u001B[0m\n\u001B[0;32m    182\u001B[0m         \u001B[1;32mtry\u001B[0m\u001B[1;33m:\u001B[0m\u001B[1;33m\u001B[0m\u001B[1;33m\u001B[0m\u001B[0m\n\u001B[1;32m--> 183\u001B[1;33m             \u001B[0mself\u001B[0m\u001B[1;33m.\u001B[0m\u001B[0mconstruct\u001B[0m\u001B[1;33m(\u001B[0m\u001B[1;33m)\u001B[0m\u001B[1;33m\u001B[0m\u001B[1;33m\u001B[0m\u001B[0m\n\u001B[0m\u001B[0;32m    184\u001B[0m         \u001B[1;32mexcept\u001B[0m \u001B[0mEndSceneEarlyException\u001B[0m\u001B[1;33m:\u001B[0m\u001B[1;33m\u001B[0m\u001B[1;33m\u001B[0m\u001B[0m\n\u001B[0;32m    185\u001B[0m             \u001B[1;32mpass\u001B[0m\u001B[1;33m\u001B[0m\u001B[1;33m\u001B[0m\u001B[0m\n",
      "\u001B[1;32m<string>\u001B[0m in \u001B[0;36mconstruct\u001B[1;34m(self)\u001B[0m\n",
      "\u001B[1;32mc:\\users\\ianfu\\miniconda3\\envs\\dev\\lib\\site-packages\\manim\\mobject\\svg\\tex_mobject.py\u001B[0m in \u001B[0;36m__init__\u001B[1;34m(self, arg_separator, tex_environment, *tex_strings, **kwargs)\u001B[0m\n\u001B[0;32m    518\u001B[0m             \u001B[0marg_separator\u001B[0m\u001B[1;33m=\u001B[0m\u001B[0marg_separator\u001B[0m\u001B[1;33m,\u001B[0m\u001B[1;33m\u001B[0m\u001B[1;33m\u001B[0m\u001B[0m\n\u001B[0;32m    519\u001B[0m             \u001B[0mtex_environment\u001B[0m\u001B[1;33m=\u001B[0m\u001B[0mtex_environment\u001B[0m\u001B[1;33m,\u001B[0m\u001B[1;33m\u001B[0m\u001B[1;33m\u001B[0m\u001B[0m\n\u001B[1;32m--> 520\u001B[1;33m             \u001B[1;33m**\u001B[0m\u001B[0mkwargs\u001B[0m\u001B[1;33m,\u001B[0m\u001B[1;33m\u001B[0m\u001B[1;33m\u001B[0m\u001B[0m\n\u001B[0m\u001B[0;32m    521\u001B[0m         )\n\u001B[0;32m    522\u001B[0m \u001B[1;33m\u001B[0m\u001B[0m\n",
      "\u001B[1;32mc:\\users\\ianfu\\miniconda3\\envs\\dev\\lib\\site-packages\\manim\\mobject\\svg\\tex_mobject.py\u001B[0m in \u001B[0;36m__init__\u001B[1;34m(self, arg_separator, substrings_to_isolate, tex_to_color_map, tex_environment, *tex_strings, **kwargs)\u001B[0m\n\u001B[0;32m    392\u001B[0m             \u001B[1;33m**\u001B[0m\u001B[0mkwargs\u001B[0m\u001B[1;33m,\u001B[0m\u001B[1;33m\u001B[0m\u001B[1;33m\u001B[0m\u001B[0m\n\u001B[0;32m    393\u001B[0m         )\n\u001B[1;32m--> 394\u001B[1;33m         \u001B[0mself\u001B[0m\u001B[1;33m.\u001B[0m\u001B[0mbreak_up_by_substrings\u001B[0m\u001B[1;33m(\u001B[0m\u001B[1;33m)\u001B[0m\u001B[1;33m\u001B[0m\u001B[1;33m\u001B[0m\u001B[0m\n\u001B[0m\u001B[0;32m    395\u001B[0m         \u001B[0mself\u001B[0m\u001B[1;33m.\u001B[0m\u001B[0mset_color_by_tex_to_color_map\u001B[0m\u001B[1;33m(\u001B[0m\u001B[0mself\u001B[0m\u001B[1;33m.\u001B[0m\u001B[0mtex_to_color_map\u001B[0m\u001B[1;33m)\u001B[0m\u001B[1;33m\u001B[0m\u001B[1;33m\u001B[0m\u001B[0m\n\u001B[0;32m    396\u001B[0m \u001B[1;33m\u001B[0m\u001B[0m\n",
      "\u001B[1;32mc:\\users\\ianfu\\miniconda3\\envs\\dev\\lib\\site-packages\\manim\\mobject\\svg\\tex_mobject.py\u001B[0m in \u001B[0;36mbreak_up_by_substrings\u001B[1;34m(self)\u001B[0m\n\u001B[0;32m    441\u001B[0m                 \u001B[0msub_tex_mob\u001B[0m\u001B[1;33m.\u001B[0m\u001B[0msubmobjects\u001B[0m \u001B[1;33m=\u001B[0m \u001B[1;33m[\u001B[0m\u001B[0mVectorizedPoint\u001B[0m\u001B[1;33m(\u001B[0m\u001B[1;33m)\u001B[0m\u001B[1;33m]\u001B[0m\u001B[1;33m\u001B[0m\u001B[1;33m\u001B[0m\u001B[0m\n\u001B[0;32m    442\u001B[0m                 \u001B[0mlast_submob_index\u001B[0m \u001B[1;33m=\u001B[0m \u001B[0mmin\u001B[0m\u001B[1;33m(\u001B[0m\u001B[0mcurr_index\u001B[0m\u001B[1;33m,\u001B[0m \u001B[0mlen\u001B[0m\u001B[1;33m(\u001B[0m\u001B[0mself\u001B[0m\u001B[1;33m.\u001B[0m\u001B[0msubmobjects\u001B[0m\u001B[1;33m)\u001B[0m \u001B[1;33m-\u001B[0m \u001B[1;36m1\u001B[0m\u001B[1;33m)\u001B[0m\u001B[1;33m\u001B[0m\u001B[1;33m\u001B[0m\u001B[0m\n\u001B[1;32m--> 443\u001B[1;33m                 \u001B[0msub_tex_mob\u001B[0m\u001B[1;33m.\u001B[0m\u001B[0mmove_to\u001B[0m\u001B[1;33m(\u001B[0m\u001B[0mself\u001B[0m\u001B[1;33m.\u001B[0m\u001B[0msubmobjects\u001B[0m\u001B[1;33m[\u001B[0m\u001B[0mlast_submob_index\u001B[0m\u001B[1;33m]\u001B[0m\u001B[1;33m,\u001B[0m \u001B[0mRIGHT\u001B[0m\u001B[1;33m)\u001B[0m\u001B[1;33m\u001B[0m\u001B[1;33m\u001B[0m\u001B[0m\n\u001B[0m\u001B[0;32m    444\u001B[0m             \u001B[1;32melse\u001B[0m\u001B[1;33m:\u001B[0m\u001B[1;33m\u001B[0m\u001B[1;33m\u001B[0m\u001B[0m\n\u001B[0;32m    445\u001B[0m                 \u001B[0msub_tex_mob\u001B[0m\u001B[1;33m.\u001B[0m\u001B[0msubmobjects\u001B[0m \u001B[1;33m=\u001B[0m \u001B[0mself\u001B[0m\u001B[1;33m.\u001B[0m\u001B[0msubmobjects\u001B[0m\u001B[1;33m[\u001B[0m\u001B[0mcurr_index\u001B[0m\u001B[1;33m:\u001B[0m\u001B[0mnew_index\u001B[0m\u001B[1;33m]\u001B[0m\u001B[1;33m\u001B[0m\u001B[1;33m\u001B[0m\u001B[0m\n",
      "\u001B[1;31mIndexError\u001B[0m: list index out of range"
     ]
    }
   ],
   "source": [
    "%%manim WriteStuff -qm -v WARNING\n",
    "\n",
    "class WriteStuff(Scene):\n",
    "    def construct(self):\n",
    "        example_text = Tex(\"This is some text\", tex_to_color_map={\"text\": YELLOW})\n",
    "        example_tex = MathTex(\n",
    "            \"\\\\sum_{k=1}^\\\\infty {1 \\\\over k^2} = {\\\\pi^2 \\\\over 6}\",\n",
    "        )\n",
    "        group = VGroup(example_text, example_tex)\n",
    "        group.arrange(DOWN)\n",
    "        group.set_width(config[\"frame_width\"] - 2 * LARGE_BUFF)\n",
    "\n",
    "        self.play(Write(example_text))\n",
    "        self.play(Write(example_tex))\n",
    "        self.wait()"
   ]
  },
  {
   "cell_type": "code",
   "execution_count": 6,
   "metadata": {},
   "outputs": [
    {
     "name": "stderr",
     "output_type": "stream",
     "text": [
      "                                                                                                                       \r"
     ]
    },
    {
     "data": {
      "text/html": [
       "<video src=\"media\\jupyter\\ec54a7b226ca0ea341a33f19712adcf0fbae3155.mp4\" controls autoplay loop style=\"max-width: 25vw;\"  >\n",
       "      Your browser does not support the <code>video</code> element.\n",
       "    </video>"
      ],
      "text/plain": [
       "<IPython.core.display.Video object>"
      ]
     },
     "metadata": {},
     "output_type": "display_data"
    }
   ],
   "source": [
    "%%manim UpdatersExample -qm -v WARNING\n",
    "\n",
    "class UpdatersExample(Scene):\n",
    "    def construct(self):\n",
    "        decimal = DecimalNumber(\n",
    "            0,\n",
    "            show_ellipsis=True,\n",
    "            num_decimal_places=3,\n",
    "            include_sign=True,\n",
    "        )\n",
    "        square = Square().to_edge(UP)\n",
    "\n",
    "        decimal.add_updater(lambda d: d.next_to(square, RIGHT))\n",
    "        decimal.add_updater(lambda d: d.set_value(square.get_center()[1]))\n",
    "        self.add(square, decimal)\n",
    "        self.play(\n",
    "            square.animate.to_edge(DOWN),\n",
    "            rate_func=there_and_back,\n",
    "            run_time=5,\n",
    "        )\n",
    "        self.wait()"
   ]
  },
  {
   "cell_type": "code",
   "execution_count": 7,
   "metadata": {},
   "outputs": [
    {
     "name": "stderr",
     "output_type": "stream",
     "text": [
      "c:\\users\\ianfu\\miniconda3\\envs\\dev\\lib\\site-packages\\manim\\mobject\\svg\\svg_mobject.py:263: UserWarning: media/Tex/ad84ffc74d30b9da.svg contains a reference to id #g1-84, which is not recognized\n",
      "  warnings.warn(warning_text)\n",
      "c:\\users\\ianfu\\miniconda3\\envs\\dev\\lib\\site-packages\\manim\\mobject\\svg\\svg_mobject.py:263: UserWarning: media/Tex/ad84ffc74d30b9da.svg contains a reference to id #g1-104, which is not recognized\n",
      "  warnings.warn(warning_text)\n",
      "c:\\users\\ianfu\\miniconda3\\envs\\dev\\lib\\site-packages\\manim\\mobject\\svg\\svg_mobject.py:263: UserWarning: media/Tex/ad84ffc74d30b9da.svg contains a reference to id #g1-105, which is not recognized\n",
      "  warnings.warn(warning_text)\n",
      "c:\\users\\ianfu\\miniconda3\\envs\\dev\\lib\\site-packages\\manim\\mobject\\svg\\svg_mobject.py:263: UserWarning: media/Tex/ad84ffc74d30b9da.svg contains a reference to id #g1-115, which is not recognized\n",
      "  warnings.warn(warning_text)\n",
      "c:\\users\\ianfu\\miniconda3\\envs\\dev\\lib\\site-packages\\manim\\mobject\\svg\\svg_mobject.py:263: UserWarning: media/Tex/ad84ffc74d30b9da.svg contains a reference to id #g1-111, which is not recognized\n",
      "  warnings.warn(warning_text)\n",
      "c:\\users\\ianfu\\miniconda3\\envs\\dev\\lib\\site-packages\\manim\\mobject\\svg\\svg_mobject.py:263: UserWarning: media/Tex/ad84ffc74d30b9da.svg contains a reference to id #g1-109, which is not recognized\n",
      "  warnings.warn(warning_text)\n",
      "c:\\users\\ianfu\\miniconda3\\envs\\dev\\lib\\site-packages\\manim\\mobject\\svg\\svg_mobject.py:263: UserWarning: media/Tex/ad84ffc74d30b9da.svg contains a reference to id #g1-101, which is not recognized\n",
      "  warnings.warn(warning_text)\n",
      "c:\\users\\ianfu\\miniconda3\\envs\\dev\\lib\\site-packages\\manim\\mobject\\svg\\svg_mobject.py:263: UserWarning: media/Tex/ad84ffc74d30b9da.svg contains a reference to id #g1-76, which is not recognized\n",
      "  warnings.warn(warning_text)\n",
      "c:\\users\\ianfu\\miniconda3\\envs\\dev\\lib\\site-packages\\manim\\mobject\\svg\\svg_mobject.py:263: UserWarning: media/Tex/ad84ffc74d30b9da.svg contains a reference to id #g0-65, which is not recognized\n",
      "  warnings.warn(warning_text)\n",
      "c:\\users\\ianfu\\miniconda3\\envs\\dev\\lib\\site-packages\\manim\\mobject\\svg\\svg_mobject.py:263: UserWarning: media/Tex/ad84ffc74d30b9da.svg contains a reference to id #g1-69, which is not recognized\n",
      "  warnings.warn(warning_text)\n",
      "c:\\users\\ianfu\\miniconda3\\envs\\dev\\lib\\site-packages\\manim\\mobject\\svg\\svg_mobject.py:263: UserWarning: media/Tex/ad84ffc74d30b9da.svg contains a reference to id #g1-88, which is not recognized\n",
      "  warnings.warn(warning_text)\n"
     ]
    },
    {
     "ename": "IndexError",
     "evalue": "list index out of range",
     "output_type": "error",
     "traceback": [
      "\u001B[1;31m---------------------------------------------------------------------------\u001B[0m",
      "\u001B[1;31mIndexError\u001B[0m                                Traceback (most recent call last)",
      "\u001B[1;32m<ipython-input-7-d8c6c5261fc5>\u001B[0m in \u001B[0;36m<module>\u001B[1;34m\u001B[0m\n\u001B[1;32m----> 1\u001B[1;33m \u001B[0mget_ipython\u001B[0m\u001B[1;33m(\u001B[0m\u001B[1;33m)\u001B[0m\u001B[1;33m.\u001B[0m\u001B[0mrun_cell_magic\u001B[0m\u001B[1;33m(\u001B[0m\u001B[1;34m'manim'\u001B[0m\u001B[1;33m,\u001B[0m \u001B[1;34m'OpeningManim -qm -v WARNING'\u001B[0m\u001B[1;33m,\u001B[0m \u001B[1;34m'\\nclass OpeningManim(Scene):\\n    def construct(self):\\n        title = Tex(r\"This is some \\\\LaTeX\")\\n        basel = MathTex(r\"\\\\sum_{n=1}^\\\\infty \\\\frac{1}{n^2} = \\\\frac{\\\\pi^2}{6}\")\\n        VGroup(title, basel).arrange(DOWN)\\n        self.play(\\n            Write(title),\\n            FadeInFrom(basel, UP),\\n        )\\n        self.wait()\\n\\n        transform_title = Tex(\"That was a transform\")\\n        transform_title.to_corner(UP + LEFT)\\n        self.play(\\n            Transform(title, transform_title),\\n            LaggedStart(*[FadeOutAndShift(obj, direction=DOWN) for obj in basel]),\\n        )\\n        self.wait()\\n\\n        grid = NumberPlane()\\n        grid_title = Tex(\"This is a grid\")\\n        grid_title.scale(1.5)\\n        grid_title.move_to(transform_title)\\n\\n        self.add(grid, grid_title)  # Make sure title is on top of grid\\n        self.play(\\n            FadeOut(title),\\n            FadeInFrom(grid_title, direction=DOWN),\\n            ShowCreation(grid, run_time=3, lag_ratio=0.1),\\n        )\\n        self.wait()\\n\\n        grid_transform_title = Tex(\\n            r\"That was a non-linear function \\\\\\\\ applied to the grid\"\\n        )\\n        grid_transform_title.move_to(grid_title, UL)\\n        grid.prepare_for_nonlinear_transform()\\n        self.play(\\n            grid.animate.apply_function(\\n                lambda p: p\\n                + np.array(\\n                    [\\n                        np.sin(p[1]),\\n                        np.sin(p[0]),\\n                        0,\\n                    ]\\n                )\\n            ),\\n            run_time=3,\\n        )\\n        self.wait()\\n        self.play(Transform(grid_title, grid_transform_title))\\n        self.wait()\\n'\u001B[0m\u001B[1;33m)\u001B[0m\u001B[1;33m\u001B[0m\u001B[1;33m\u001B[0m\u001B[0m\n\u001B[0m",
      "\u001B[1;32mc:\\users\\ianfu\\miniconda3\\envs\\dev\\lib\\site-packages\\IPython\\core\\interactiveshell.py\u001B[0m in \u001B[0;36mrun_cell_magic\u001B[1;34m(self, magic_name, line, cell)\u001B[0m\n\u001B[0;32m   2379\u001B[0m             \u001B[1;32mwith\u001B[0m \u001B[0mself\u001B[0m\u001B[1;33m.\u001B[0m\u001B[0mbuiltin_trap\u001B[0m\u001B[1;33m:\u001B[0m\u001B[1;33m\u001B[0m\u001B[1;33m\u001B[0m\u001B[0m\n\u001B[0;32m   2380\u001B[0m                 \u001B[0margs\u001B[0m \u001B[1;33m=\u001B[0m \u001B[1;33m(\u001B[0m\u001B[0mmagic_arg_s\u001B[0m\u001B[1;33m,\u001B[0m \u001B[0mcell\u001B[0m\u001B[1;33m)\u001B[0m\u001B[1;33m\u001B[0m\u001B[1;33m\u001B[0m\u001B[0m\n\u001B[1;32m-> 2381\u001B[1;33m                 \u001B[0mresult\u001B[0m \u001B[1;33m=\u001B[0m \u001B[0mfn\u001B[0m\u001B[1;33m(\u001B[0m\u001B[1;33m*\u001B[0m\u001B[0margs\u001B[0m\u001B[1;33m,\u001B[0m \u001B[1;33m**\u001B[0m\u001B[0mkwargs\u001B[0m\u001B[1;33m)\u001B[0m\u001B[1;33m\u001B[0m\u001B[1;33m\u001B[0m\u001B[0m\n\u001B[0m\u001B[0;32m   2382\u001B[0m             \u001B[1;32mreturn\u001B[0m \u001B[0mresult\u001B[0m\u001B[1;33m\u001B[0m\u001B[1;33m\u001B[0m\u001B[0m\n\u001B[0;32m   2383\u001B[0m \u001B[1;33m\u001B[0m\u001B[0m\n",
      "\u001B[1;32m<decorator-gen-864>\u001B[0m in \u001B[0;36mmanim\u001B[1;34m(self, line, cell, local_ns)\u001B[0m\n",
      "\u001B[1;32mc:\\users\\ianfu\\miniconda3\\envs\\dev\\lib\\site-packages\\IPython\\core\\magic.py\u001B[0m in \u001B[0;36m<lambda>\u001B[1;34m(f, *a, **k)\u001B[0m\n\u001B[0;32m    185\u001B[0m     \u001B[1;31m# but it's overkill for just that one bit of state.\u001B[0m\u001B[1;33m\u001B[0m\u001B[1;33m\u001B[0m\u001B[1;33m\u001B[0m\u001B[0m\n\u001B[0;32m    186\u001B[0m     \u001B[1;32mdef\u001B[0m \u001B[0mmagic_deco\u001B[0m\u001B[1;33m(\u001B[0m\u001B[0marg\u001B[0m\u001B[1;33m)\u001B[0m\u001B[1;33m:\u001B[0m\u001B[1;33m\u001B[0m\u001B[1;33m\u001B[0m\u001B[0m\n\u001B[1;32m--> 187\u001B[1;33m         \u001B[0mcall\u001B[0m \u001B[1;33m=\u001B[0m \u001B[1;32mlambda\u001B[0m \u001B[0mf\u001B[0m\u001B[1;33m,\u001B[0m \u001B[1;33m*\u001B[0m\u001B[0ma\u001B[0m\u001B[1;33m,\u001B[0m \u001B[1;33m**\u001B[0m\u001B[0mk\u001B[0m\u001B[1;33m:\u001B[0m \u001B[0mf\u001B[0m\u001B[1;33m(\u001B[0m\u001B[1;33m*\u001B[0m\u001B[0ma\u001B[0m\u001B[1;33m,\u001B[0m \u001B[1;33m**\u001B[0m\u001B[0mk\u001B[0m\u001B[1;33m)\u001B[0m\u001B[1;33m\u001B[0m\u001B[1;33m\u001B[0m\u001B[0m\n\u001B[0m\u001B[0;32m    188\u001B[0m \u001B[1;33m\u001B[0m\u001B[0m\n\u001B[0;32m    189\u001B[0m         \u001B[1;32mif\u001B[0m \u001B[0mcallable\u001B[0m\u001B[1;33m(\u001B[0m\u001B[0marg\u001B[0m\u001B[1;33m)\u001B[0m\u001B[1;33m:\u001B[0m\u001B[1;33m\u001B[0m\u001B[1;33m\u001B[0m\u001B[0m\n",
      "\u001B[1;32mc:\\users\\ianfu\\miniconda3\\envs\\dev\\lib\\site-packages\\manim\\utils\\ipython_magic.py\u001B[0m in \u001B[0;36mmanim\u001B[1;34m(self, line, cell, local_ns)\u001B[0m\n\u001B[0;32m     79\u001B[0m                 \u001B[0mconfig\u001B[0m\u001B[1;33m.\u001B[0m\u001B[0mdigest_args\u001B[0m\u001B[1;33m(\u001B[0m\u001B[0margs\u001B[0m\u001B[1;33m)\u001B[0m\u001B[1;33m\u001B[0m\u001B[1;33m\u001B[0m\u001B[0m\n\u001B[0;32m     80\u001B[0m \u001B[1;33m\u001B[0m\u001B[0m\n\u001B[1;32m---> 81\u001B[1;33m                 \u001B[0mexec\u001B[0m\u001B[1;33m(\u001B[0m\u001B[1;34mf\"{config['scene_names'][0]}().render()\"\u001B[0m\u001B[1;33m,\u001B[0m \u001B[0mlocal_ns\u001B[0m\u001B[1;33m)\u001B[0m\u001B[1;33m\u001B[0m\u001B[1;33m\u001B[0m\u001B[0m\n\u001B[0m\u001B[0;32m     82\u001B[0m                 \u001B[0mlocal_path\u001B[0m \u001B[1;33m=\u001B[0m \u001B[0mPath\u001B[0m\u001B[1;33m(\u001B[0m\u001B[0mconfig\u001B[0m\u001B[1;33m[\u001B[0m\u001B[1;34m\"output_file\"\u001B[0m\u001B[1;33m]\u001B[0m\u001B[1;33m)\u001B[0m\u001B[1;33m.\u001B[0m\u001B[0mrelative_to\u001B[0m\u001B[1;33m(\u001B[0m\u001B[0mPath\u001B[0m\u001B[1;33m.\u001B[0m\u001B[0mcwd\u001B[0m\u001B[1;33m(\u001B[0m\u001B[1;33m)\u001B[0m\u001B[1;33m)\u001B[0m\u001B[1;33m\u001B[0m\u001B[1;33m\u001B[0m\u001B[0m\n\u001B[0;32m     83\u001B[0m                 tmpfile = (\n",
      "\u001B[1;32m<string>\u001B[0m in \u001B[0;36m<module>\u001B[1;34m\u001B[0m\n",
      "\u001B[1;32mc:\\users\\ianfu\\miniconda3\\envs\\dev\\lib\\site-packages\\manim\\scene\\scene.py\u001B[0m in \u001B[0;36mrender\u001B[1;34m(self, preview)\u001B[0m\n\u001B[0;32m    181\u001B[0m         \u001B[0mself\u001B[0m\u001B[1;33m.\u001B[0m\u001B[0msetup\u001B[0m\u001B[1;33m(\u001B[0m\u001B[1;33m)\u001B[0m\u001B[1;33m\u001B[0m\u001B[1;33m\u001B[0m\u001B[0m\n\u001B[0;32m    182\u001B[0m         \u001B[1;32mtry\u001B[0m\u001B[1;33m:\u001B[0m\u001B[1;33m\u001B[0m\u001B[1;33m\u001B[0m\u001B[0m\n\u001B[1;32m--> 183\u001B[1;33m             \u001B[0mself\u001B[0m\u001B[1;33m.\u001B[0m\u001B[0mconstruct\u001B[0m\u001B[1;33m(\u001B[0m\u001B[1;33m)\u001B[0m\u001B[1;33m\u001B[0m\u001B[1;33m\u001B[0m\u001B[0m\n\u001B[0m\u001B[0;32m    184\u001B[0m         \u001B[1;32mexcept\u001B[0m \u001B[0mEndSceneEarlyException\u001B[0m\u001B[1;33m:\u001B[0m\u001B[1;33m\u001B[0m\u001B[1;33m\u001B[0m\u001B[0m\n\u001B[0;32m    185\u001B[0m             \u001B[1;32mpass\u001B[0m\u001B[1;33m\u001B[0m\u001B[1;33m\u001B[0m\u001B[0m\n",
      "\u001B[1;32m<string>\u001B[0m in \u001B[0;36mconstruct\u001B[1;34m(self)\u001B[0m\n",
      "\u001B[1;32mc:\\users\\ianfu\\miniconda3\\envs\\dev\\lib\\site-packages\\manim\\mobject\\svg\\tex_mobject.py\u001B[0m in \u001B[0;36m__init__\u001B[1;34m(self, arg_separator, tex_environment, *tex_strings, **kwargs)\u001B[0m\n\u001B[0;32m    518\u001B[0m             \u001B[0marg_separator\u001B[0m\u001B[1;33m=\u001B[0m\u001B[0marg_separator\u001B[0m\u001B[1;33m,\u001B[0m\u001B[1;33m\u001B[0m\u001B[1;33m\u001B[0m\u001B[0m\n\u001B[0;32m    519\u001B[0m             \u001B[0mtex_environment\u001B[0m\u001B[1;33m=\u001B[0m\u001B[0mtex_environment\u001B[0m\u001B[1;33m,\u001B[0m\u001B[1;33m\u001B[0m\u001B[1;33m\u001B[0m\u001B[0m\n\u001B[1;32m--> 520\u001B[1;33m             \u001B[1;33m**\u001B[0m\u001B[0mkwargs\u001B[0m\u001B[1;33m,\u001B[0m\u001B[1;33m\u001B[0m\u001B[1;33m\u001B[0m\u001B[0m\n\u001B[0m\u001B[0;32m    521\u001B[0m         )\n\u001B[0;32m    522\u001B[0m \u001B[1;33m\u001B[0m\u001B[0m\n",
      "\u001B[1;32mc:\\users\\ianfu\\miniconda3\\envs\\dev\\lib\\site-packages\\manim\\mobject\\svg\\tex_mobject.py\u001B[0m in \u001B[0;36m__init__\u001B[1;34m(self, arg_separator, substrings_to_isolate, tex_to_color_map, tex_environment, *tex_strings, **kwargs)\u001B[0m\n\u001B[0;32m    392\u001B[0m             \u001B[1;33m**\u001B[0m\u001B[0mkwargs\u001B[0m\u001B[1;33m,\u001B[0m\u001B[1;33m\u001B[0m\u001B[1;33m\u001B[0m\u001B[0m\n\u001B[0;32m    393\u001B[0m         )\n\u001B[1;32m--> 394\u001B[1;33m         \u001B[0mself\u001B[0m\u001B[1;33m.\u001B[0m\u001B[0mbreak_up_by_substrings\u001B[0m\u001B[1;33m(\u001B[0m\u001B[1;33m)\u001B[0m\u001B[1;33m\u001B[0m\u001B[1;33m\u001B[0m\u001B[0m\n\u001B[0m\u001B[0;32m    395\u001B[0m         \u001B[0mself\u001B[0m\u001B[1;33m.\u001B[0m\u001B[0mset_color_by_tex_to_color_map\u001B[0m\u001B[1;33m(\u001B[0m\u001B[0mself\u001B[0m\u001B[1;33m.\u001B[0m\u001B[0mtex_to_color_map\u001B[0m\u001B[1;33m)\u001B[0m\u001B[1;33m\u001B[0m\u001B[1;33m\u001B[0m\u001B[0m\n\u001B[0;32m    396\u001B[0m \u001B[1;33m\u001B[0m\u001B[0m\n",
      "\u001B[1;32mc:\\users\\ianfu\\miniconda3\\envs\\dev\\lib\\site-packages\\manim\\mobject\\svg\\tex_mobject.py\u001B[0m in \u001B[0;36mbreak_up_by_substrings\u001B[1;34m(self)\u001B[0m\n\u001B[0;32m    441\u001B[0m                 \u001B[0msub_tex_mob\u001B[0m\u001B[1;33m.\u001B[0m\u001B[0msubmobjects\u001B[0m \u001B[1;33m=\u001B[0m \u001B[1;33m[\u001B[0m\u001B[0mVectorizedPoint\u001B[0m\u001B[1;33m(\u001B[0m\u001B[1;33m)\u001B[0m\u001B[1;33m]\u001B[0m\u001B[1;33m\u001B[0m\u001B[1;33m\u001B[0m\u001B[0m\n\u001B[0;32m    442\u001B[0m                 \u001B[0mlast_submob_index\u001B[0m \u001B[1;33m=\u001B[0m \u001B[0mmin\u001B[0m\u001B[1;33m(\u001B[0m\u001B[0mcurr_index\u001B[0m\u001B[1;33m,\u001B[0m \u001B[0mlen\u001B[0m\u001B[1;33m(\u001B[0m\u001B[0mself\u001B[0m\u001B[1;33m.\u001B[0m\u001B[0msubmobjects\u001B[0m\u001B[1;33m)\u001B[0m \u001B[1;33m-\u001B[0m \u001B[1;36m1\u001B[0m\u001B[1;33m)\u001B[0m\u001B[1;33m\u001B[0m\u001B[1;33m\u001B[0m\u001B[0m\n\u001B[1;32m--> 443\u001B[1;33m                 \u001B[0msub_tex_mob\u001B[0m\u001B[1;33m.\u001B[0m\u001B[0mmove_to\u001B[0m\u001B[1;33m(\u001B[0m\u001B[0mself\u001B[0m\u001B[1;33m.\u001B[0m\u001B[0msubmobjects\u001B[0m\u001B[1;33m[\u001B[0m\u001B[0mlast_submob_index\u001B[0m\u001B[1;33m]\u001B[0m\u001B[1;33m,\u001B[0m \u001B[0mRIGHT\u001B[0m\u001B[1;33m)\u001B[0m\u001B[1;33m\u001B[0m\u001B[1;33m\u001B[0m\u001B[0m\n\u001B[0m\u001B[0;32m    444\u001B[0m             \u001B[1;32melse\u001B[0m\u001B[1;33m:\u001B[0m\u001B[1;33m\u001B[0m\u001B[1;33m\u001B[0m\u001B[0m\n\u001B[0;32m    445\u001B[0m                 \u001B[0msub_tex_mob\u001B[0m\u001B[1;33m.\u001B[0m\u001B[0msubmobjects\u001B[0m \u001B[1;33m=\u001B[0m \u001B[0mself\u001B[0m\u001B[1;33m.\u001B[0m\u001B[0msubmobjects\u001B[0m\u001B[1;33m[\u001B[0m\u001B[0mcurr_index\u001B[0m\u001B[1;33m:\u001B[0m\u001B[0mnew_index\u001B[0m\u001B[1;33m]\u001B[0m\u001B[1;33m\u001B[0m\u001B[1;33m\u001B[0m\u001B[0m\n",
      "\u001B[1;31mIndexError\u001B[0m: list index out of range"
     ]
    }
   ],
   "source": [
    "%%manim OpeningManim -qm -v WARNING\n",
    "\n",
    "class OpeningManim(Scene):\n",
    "    def construct(self):\n",
    "        title = Tex(r\"This is some \\LaTeX\")\n",
    "        basel = MathTex(r\"\\sum_{n=1}^\\infty \\frac{1}{n^2} = \\frac{\\pi^2}{6}\")\n",
    "        VGroup(title, basel).arrange(DOWN)\n",
    "        self.play(\n",
    "            Write(title),\n",
    "            FadeInFrom(basel, UP),\n",
    "        )\n",
    "        self.wait()\n",
    "\n",
    "        transform_title = Tex(\"That was a transform\")\n",
    "        transform_title.to_corner(UP + LEFT)\n",
    "        self.play(\n",
    "            Transform(title, transform_title),\n",
    "            LaggedStart(*[FadeOutAndShift(obj, direction=DOWN) for obj in basel]),\n",
    "        )\n",
    "        self.wait()\n",
    "\n",
    "        grid = NumberPlane()\n",
    "        grid_title = Tex(\"This is a grid\")\n",
    "        grid_title.scale(1.5)\n",
    "        grid_title.move_to(transform_title)\n",
    "\n",
    "        self.add(grid, grid_title)  # Make sure title is on top of grid\n",
    "        self.play(\n",
    "            FadeOut(title),\n",
    "            FadeInFrom(grid_title, direction=DOWN),\n",
    "            ShowCreation(grid, run_time=3, lag_ratio=0.1),\n",
    "        )\n",
    "        self.wait()\n",
    "\n",
    "        grid_transform_title = Tex(\n",
    "            r\"That was a non-linear function \\\\ applied to the grid\"\n",
    "        )\n",
    "        grid_transform_title.move_to(grid_title, UL)\n",
    "        grid.prepare_for_nonlinear_transform()\n",
    "        self.play(\n",
    "            grid.animate.apply_function(\n",
    "                lambda p: p\n",
    "                + np.array(\n",
    "                    [\n",
    "                        np.sin(p[1]),\n",
    "                        np.sin(p[0]),\n",
    "                        0,\n",
    "                    ]\n",
    "                )\n",
    "            ),\n",
    "            run_time=3,\n",
    "        )\n",
    "        self.wait()\n",
    "        self.play(Transform(grid_title, grid_transform_title))\n",
    "        self.wait()\n"
   ]
  },
  {
   "cell_type": "code",
   "execution_count": null,
   "metadata": {},
   "outputs": [],
   "source": []
  }
 ],
 "metadata": {
  "kernelspec": {
   "display_name": "Python 3",
   "language": "python",
   "name": "python3"
  },
  "language_info": {
   "codemirror_mode": {
    "name": "ipython",
    "version": 3
   },
   "file_extension": ".py",
   "mimetype": "text/x-python",
   "name": "python",
   "nbconvert_exporter": "python",
   "pygments_lexer": "ipython3",
   "version": "3.7.9"
  }
 },
 "nbformat": 4,
 "nbformat_minor": 1
}