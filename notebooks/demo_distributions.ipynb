{
 "cells": [
  {
   "cell_type": "markdown",
   "metadata": {
    "collapsed": true,
    "pycharm": {
     "name": "#%% md\n"
    }
   },
   "source": [
    "Generates minimalistic plots for a variety of distribution types.\n",
    "\n",
    "15th April 2021, Yan Fu"
   ]
  },
  {
   "cell_type": "code",
   "execution_count": null,
   "outputs": [],
   "source": [
    "import matplotlib.pyplot as plt\n",
    "import numpy as np\n",
    "\n",
    "from sfeprapy.mcs.mcs_gen_2 import InputParser\n",
    "plt.style.use('seaborn-white')"
   ],
   "metadata": {
    "collapsed": false,
    "pycharm": {
     "name": "#%%\n"
    }
   }
  },
  {
   "cell_type": "code",
   "execution_count": 69,
   "outputs": [],
   "source": [
    "# Sample defined distributions using `InputParser`, a thin layer built on top of scipy.stats module.\n",
    "\n",
    "dist_obj = InputParser()\n",
    "df_dists = dist_obj.inputs2samples(\n",
    "    dist_params={\n",
    "        'Gumbel Type I': dict(\n",
    "            dist = 'gumbel_r_',\n",
    "            mean = 0,\n",
    "            sd = 1,\n",
    "            ubound=4,\n",
    "            lbound=-4,\n",
    "        ),\n",
    "        'Normal': dict(\n",
    "            dist = 'norm_',\n",
    "            mean=0,\n",
    "            sd=1,\n",
    "            ubound=4,\n",
    "            lbound=-4,\n",
    "        ),\n",
    "        'Uniform': dict(\n",
    "            dist = 'uniform_',\n",
    "            ubound=4,\n",
    "            lbound=-4,\n",
    "        ),\n",
    "        'Lognorm': dict(\n",
    "            dist = 'lognorm_',\n",
    "            mean=1,\n",
    "            sd=1,\n",
    "            ubound=4,\n",
    "            lbound=-4,\n",
    "        ),\n",
    "        'Complementary Lognorm': dict(\n",
    "            dist='lognorm_mod_',\n",
    "            ubound=1,\n",
    "            lbound=0,\n",
    "            mean=0.2,\n",
    "            sd=0.2,\n",
    "        )\n",
    "    },\n",
    "    num_samples = 10000\n",
    ")\n",
    "\n",
    "df_dists.drop('index', axis=1, inplace=True)  # index column not used"
   ],
   "metadata": {
    "collapsed": false,
    "pycharm": {
     "name": "#%%\n"
    }
   }
  },
  {
   "cell_type": "code",
   "execution_count": 107,
   "outputs": [
    {
     "data": {
      "text/plain": "<Figure size 414x86.4 with 5 Axes>",
      "image/png": "[encoded data removed]"
     },
     "metadata": {},
     "output_type": "display_data"
    }
   ],
   "source": [
    "# Plots\n",
    "\n",
    "fig, axes = plt.subplots(nrows=1, ncols=len(df_dists.columns), figsize=(1.15*len(df_dists.columns), 1.2))\n",
    "\n",
    "for i, k in enumerate(df_dists.columns):\n",
    "    try:\n",
    "        ax = axes[i]\n",
    "    except TypeError:\n",
    "        ax = axes\n",
    "\n",
    "    data = np.array(df_dists[k].values)\n",
    "    bins=np.linspace(data.min(), data.max(), 20)\n",
    "    ax.hist(data, bins=20, alpha=0.9, histtype='bar', ec='k', color=(0, 164/255, 153/255))\n",
    "\n",
    "    ax.get_yaxis().set_visible(False)\n",
    "    ax.set_xticks([])\n",
    "    ax.set_xlabel(k, fontsize='x-small')\n",
    "\n",
    "plt.tight_layout()\n",
    "fig.savefig('dists.png', dpi=300, bbox_inches='tight', pad_inches=0.015)"
   ],
   "metadata": {
    "collapsed": false,
    "pycharm": {
     "name": "#%%\n"
    }
   }
  }
 ],
 "metadata": {
  "kernelspec": {
   "display_name": "Python 3",
   "language": "python",
   "name": "python3"
  },
  "language_info": {
   "codemirror_mode": {
    "name": "ipython",
    "version": 2
   },
   "file_extension": ".py",
   "mimetype": "text/x-python",
   "name": "python",
   "nbconvert_exporter": "python",
   "pygments_lexer": "ipython2",
   "version": "2.7.6"
  }
 },
 "nbformat": 4,
 "nbformat_minor": 0
}