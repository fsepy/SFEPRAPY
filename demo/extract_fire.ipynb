{
 "cells": [
  {
   "cell_type": "code",
   "execution_count": 49,
   "id": "initial_id",
   "metadata": {
    "collapsed": true,
    "ExecuteTime": {
     "end_time": "2023-11-15T01:01:22.202433900Z",
     "start_time": "2023-11-15T01:01:22.194060400Z"
    }
   },
   "outputs": [],
   "source": [
    "from inspect import getfullargspec\n",
    "from typing import Callable\n",
    "\n",
    "import numpy as np\n",
    "\n",
    "from sfeprapy.func.csv import csv_to_list_of_dicts, dict_of_ndarray_to_csv\n",
    "from sfeprapy.func.xlsx import xlsx_to_dict\n",
    "from sfeprapy.mcs0.calcs import (\n",
    "    decide_fire, evaluate_fire_temperature, solve_protection_thickness, solve_time_equivalence_iso834\n",
    ")"
   ]
  },
  {
   "cell_type": "code",
   "execution_count": 30,
   "outputs": [],
   "source": [
    "fp_input = r'C:\\Users\\ian\\Desktop\\sfeprapy_test\\test.xlsx'\n",
    "data = xlsx_to_dict(fp_input)"
   ],
   "metadata": {
    "collapsed": false,
    "ExecuteTime": {
     "end_time": "2023-11-15T00:51:31.976941800Z",
     "start_time": "2023-11-15T00:51:31.950226500Z"
    }
   },
   "id": "559c365de2062d7a"
  },
  {
   "cell_type": "code",
   "execution_count": 31,
   "outputs": [
    {
     "data": {
      "text/plain": "{'CASE_1': {'case_name': 'CASE_1',\n  'n_simulations': 2500,\n  'fire_time_step': 10,\n  'fire_time_duration': 18000,\n  'fire_hrr_density:dist': 'uniform_',\n  'fire_hrr_density:lbound': 0.249,\n  'fire_hrr_density:ubound': 0.251,\n  'fire_load_density:dist': 'gumbel_r_',\n  'fire_load_density:lbound': 10,\n  'fire_load_density:ubound': 1500,\n  'fire_load_density:mean': 420,\n  'fire_load_density:sd': 126,\n  'fire_spread_speed:dist': 'uniform_',\n  'fire_spread_speed:lbound': 0.0035,\n  'fire_spread_speed:ubound': 0.019,\n  'fire_nft_limit:dist': 'norm_',\n  'fire_nft_limit:lbound': 623.15,\n  'fire_nft_limit:ubound': 1473.15,\n  'fire_nft_limit:mean': 1323.15,\n  'fire_nft_limit:sd': 93,\n  'fire_combustion_efficiency:dist': 'uniform_',\n  'fire_combustion_efficiency:lbound': 0.8,\n  'fire_combustion_efficiency:ubound': 1,\n  'window_open_fraction:dist': 'lognorm_mod_',\n  'window_open_fraction:ubound': 0.9999,\n  'window_open_fraction:lbound': 0.0001,\n  'window_open_fraction:mean': 0.2,\n  'window_open_fraction:sd': 0.2,\n  'phi_teq:dist': 'constant_',\n  'phi_teq:ubound': 1,\n  'phi_teq:lbound': 1,\n  'phi_teq:mean': 0,\n  'phi_teq:sd': 0,\n  'beam_cross_section_area': 0.017,\n  'beam_position_horizontal:dist': 'uniform_',\n  'beam_position_horizontal:lbound': 18.75,\n  'beam_position_horizontal:ubound': 28.125,\n  'beam_position_vertical': 3.1,\n  'beam_rho': 7850,\n  'fire_mode': 3,\n  'fire_gamma_fi_q': 1,\n  'fire_t_alpha': 300,\n  'fire_tlim': 0.333,\n  'protection_c': 1700,\n  'protection_k': 0.2,\n  'protection_protected_perimeter': 2.14,\n  'protection_rho': 800,\n  'room_breadth': 16,\n  'room_depth': 31.25,\n  'room_height': 3.1,\n  'room_wall_thermal_inertia': 720,\n  'solver_temperature_goal': 823.15,\n  'solver_max_iter': 20,\n  'solver_thickness_lbound': 0.0001,\n  'solver_thickness_ubound': 0.04,\n  'solver_tol': 1,\n  'window_height': 2.8,\n  'window_width': 72,\n  'window_open_fraction_permanent': 0,\n  'timber_exposed_area': 0,\n  'timber_charring_rate': 0.7,\n  'timber_hc': 13.2,\n  'timber_density': 400,\n  'timber_solver_ilim': 20,\n  'timber_solver_tol': 1,\n  'timber_charred_depth': None,\n  'timber_depth': None,\n  'occupancy_type': None,\n  'car_cluster_size': None,\n  'p1': 3e-07,\n  'p2': 0.1,\n  'p3': 0.25,\n  'p4': 0.09,\n  'general_room_floor_area': 500},\n 'CASE_2_teq_phi': {'case_name': 'CASE_2_teq_phi',\n  'n_simulations': 2500,\n  'fire_time_step': 10,\n  'fire_time_duration': 18000,\n  'fire_hrr_density:dist': 'uniform_',\n  'fire_hrr_density:lbound': 0.249,\n  'fire_hrr_density:ubound': 0.251,\n  'fire_load_density:dist': 'gumbel_r_',\n  'fire_load_density:lbound': 10,\n  'fire_load_density:ubound': 1500,\n  'fire_load_density:mean': 420,\n  'fire_load_density:sd': 126,\n  'fire_spread_speed:dist': 'uniform_',\n  'fire_spread_speed:lbound': 0.0035,\n  'fire_spread_speed:ubound': 0.019,\n  'fire_nft_limit:dist': 'norm_',\n  'fire_nft_limit:lbound': 623.15,\n  'fire_nft_limit:ubound': 1473.15,\n  'fire_nft_limit:mean': 1323.15,\n  'fire_nft_limit:sd': 93,\n  'fire_combustion_efficiency:dist': 'uniform_',\n  'fire_combustion_efficiency:lbound': 0.8,\n  'fire_combustion_efficiency:ubound': 1,\n  'window_open_fraction:dist': 'lognorm_mod_',\n  'window_open_fraction:ubound': 0.9999,\n  'window_open_fraction:lbound': 0.0001,\n  'window_open_fraction:mean': 0.2,\n  'window_open_fraction:sd': 0.2,\n  'phi_teq:dist': 'lognorm_',\n  'phi_teq:ubound': 3,\n  'phi_teq:lbound': 1e-05,\n  'phi_teq:mean': 1,\n  'phi_teq:sd': 0.25,\n  'beam_cross_section_area': 0.017,\n  'beam_position_horizontal:dist': 'uniform_',\n  'beam_position_horizontal:lbound': 18.75,\n  'beam_position_horizontal:ubound': 28.125,\n  'beam_position_vertical': 3.1,\n  'beam_rho': 7850,\n  'fire_mode': 3,\n  'fire_gamma_fi_q': 1,\n  'fire_t_alpha': 300,\n  'fire_tlim': 0.333,\n  'protection_c': 1700,\n  'protection_k': 0.2,\n  'protection_protected_perimeter': 2.14,\n  'protection_rho': 800,\n  'room_breadth': 16,\n  'room_depth': 31.25,\n  'room_height': 3.1,\n  'room_wall_thermal_inertia': 720,\n  'solver_temperature_goal': 823.15,\n  'solver_max_iter': 20,\n  'solver_thickness_lbound': 0.0001,\n  'solver_thickness_ubound': 0.04,\n  'solver_tol': 1,\n  'window_height': 2.8,\n  'window_width': 72,\n  'window_open_fraction_permanent': 0,\n  'timber_exposed_area': 0,\n  'timber_charring_rate': 0.7,\n  'timber_hc': 13.2,\n  'timber_density': 400,\n  'timber_solver_ilim': 20,\n  'timber_solver_tol': 1,\n  'timber_charred_depth': None,\n  'timber_depth': None,\n  'occupancy_type': None,\n  'car_cluster_size': None,\n  'p1': 3e-07,\n  'p2': 0.1,\n  'p3': 0.25,\n  'p4': 0.09,\n  'general_room_floor_area': 500},\n 'CASE_3_timber': {'case_name': 'CASE_3_timber',\n  'n_simulations': 2500,\n  'fire_time_step': 10,\n  'fire_time_duration': 18000,\n  'fire_hrr_density:dist': 'uniform_',\n  'fire_hrr_density:lbound': 0.249,\n  'fire_hrr_density:ubound': 0.251,\n  'fire_load_density:dist': 'gumbel_r_',\n  'fire_load_density:lbound': 10,\n  'fire_load_density:ubound': 1500,\n  'fire_load_density:mean': 420,\n  'fire_load_density:sd': 126,\n  'fire_spread_speed:dist': 'uniform_',\n  'fire_spread_speed:lbound': 0.0035,\n  'fire_spread_speed:ubound': 0.019,\n  'fire_nft_limit:dist': 'norm_',\n  'fire_nft_limit:lbound': 623.15,\n  'fire_nft_limit:ubound': 1473.15,\n  'fire_nft_limit:mean': 1323.15,\n  'fire_nft_limit:sd': 93,\n  'fire_combustion_efficiency:dist': 'uniform_',\n  'fire_combustion_efficiency:lbound': 0.8,\n  'fire_combustion_efficiency:ubound': 1,\n  'window_open_fraction:dist': 'lognorm_mod_',\n  'window_open_fraction:ubound': 0.9999,\n  'window_open_fraction:lbound': 0.0001,\n  'window_open_fraction:mean': 0.2,\n  'window_open_fraction:sd': 0.2,\n  'phi_teq:dist': 'constant_',\n  'phi_teq:ubound': 1,\n  'phi_teq:lbound': 1,\n  'phi_teq:mean': 0,\n  'phi_teq:sd': 0,\n  'beam_cross_section_area': 0.017,\n  'beam_position_horizontal:dist': 'uniform_',\n  'beam_position_horizontal:lbound': 18.75,\n  'beam_position_horizontal:ubound': 28.125,\n  'beam_position_vertical': 3.1,\n  'beam_rho': 7850,\n  'fire_mode': 3,\n  'fire_gamma_fi_q': 1,\n  'fire_t_alpha': 300,\n  'fire_tlim': 0.333,\n  'protection_c': 1700,\n  'protection_k': 0.2,\n  'protection_protected_perimeter': 2.14,\n  'protection_rho': 800,\n  'room_breadth': 16,\n  'room_depth': 31.25,\n  'room_height': 3.1,\n  'room_wall_thermal_inertia': 720,\n  'solver_temperature_goal': 823.15,\n  'solver_max_iter': 20,\n  'solver_thickness_lbound': 0.0001,\n  'solver_thickness_ubound': 0.04,\n  'solver_tol': 1,\n  'window_height': 2.8,\n  'window_width': 72,\n  'window_open_fraction_permanent': 0,\n  'timber_exposed_area': 500,\n  'timber_charring_rate': 0.7,\n  'timber_hc': 13.2,\n  'timber_density': 400,\n  'timber_solver_ilim': 20,\n  'timber_solver_tol': 1,\n  'timber_charred_depth': None,\n  'timber_depth': None,\n  'occupancy_type': None,\n  'car_cluster_size': None,\n  'p1': 3e-07,\n  'p2': 0.1,\n  'p3': 0.25,\n  'p4': 0.09,\n  'general_room_floor_area': 500}}"
     },
     "execution_count": 31,
     "metadata": {},
     "output_type": "execute_result"
    }
   ],
   "source": [
    "data"
   ],
   "metadata": {
    "collapsed": false,
    "ExecuteTime": {
     "end_time": "2023-11-15T00:51:31.997918Z",
     "start_time": "2023-11-15T00:51:31.967536Z"
    }
   },
   "id": "48a766113f35831f"
  },
  {
   "cell_type": "code",
   "execution_count": 32,
   "outputs": [],
   "source": [
    "fp_output = r'C:\\Users\\ian\\Desktop\\sfeprapy_test\\test\\CASE_1.csv'\n",
    "data_out = csv_to_list_of_dicts(fp_output)\n",
    "data_out = [{k: float(v) for k, v in i.items()} for i in data_out]"
   ],
   "metadata": {
    "collapsed": false,
    "ExecuteTime": {
     "end_time": "2023-11-15T00:51:32.013796300Z",
     "start_time": "2023-11-15T00:51:31.976941800Z"
    }
   },
   "id": "e36bbe9ee473d348"
  },
  {
   "cell_type": "code",
   "execution_count": 33,
   "outputs": [
    {
     "name": "stdout",
     "output_type": "stream",
     "text": [
      "{'index': 0.0, 'beam_position_horizontal': 25.0137, 'fire_combustion_efficiency': 0.932507, 'fire_hrr_density': 0.249988, 'fire_nft_limit': 1457.04, 'fire_spread_speed': 0.0108317, 'window_open_fraction': 0.319879, 'fire_load_density': 385.994, 'fire_type': 1.0, 't1': 1439.84, 't2': 2885.06, 't3': 4324.89, 'solver_steel_temperature_solved': 822.653, 'solver_time_critical_temp_solved': 4010.0, 'solver_protection_thickness': 0.0141897, 'solver_iter_count': 8.0, 'solver_time_equivalence_solved': 3419.79, 'timber_charring_rate': 0.0, 'timber_exposed_duration': 0.0, 'timber_solver_iter_count': 0.0, 'timber_fire_load': nan, 'timber_charred_depth': nan, 'timber_charred_mass': nan, 'timber_charred_volume': nan}\n"
     ]
    }
   ],
   "source": [
    "print(data_out[0])"
   ],
   "metadata": {
    "collapsed": false,
    "ExecuteTime": {
     "end_time": "2023-11-15T00:51:32.029820800Z",
     "start_time": "2023-11-15T00:51:32.019802300Z"
    }
   },
   "id": "c15cce73268ddc4f"
  },
  {
   "cell_type": "code",
   "execution_count": 45,
   "outputs": [],
   "source": [
    "def teq_main(\n",
    "        index: int, beam_cross_section_area: float, beam_position_vertical: float, beam_position_horizontal: float,\n",
    "        beam_rho: float, fire_time_duration: float, fire_time_step: float, fire_combustion_efficiency: float,\n",
    "        fire_gamma_fi_q: float, fire_hrr_density: float, fire_load_density: float, fire_mode: int,\n",
    "        fire_nft_limit: float, fire_spread_speed: float, fire_t_alpha: float, fire_tlim: float, protection_c: float,\n",
    "        protection_k: float, protection_protected_perimeter: float, protection_rho: float, room_breadth: float,\n",
    "        room_depth: float, room_height: float, room_wall_thermal_inertia: float, solver_temperature_goal: float,\n",
    "        solver_max_iter: int, solver_thickness_lbound: float, solver_thickness_ubound: float, solver_tol: float,\n",
    "        window_height: float, window_open_fraction: float, window_width: float, window_open_fraction_permanent: float,\n",
    "        phi_teq: float = 1.0, timber_exposed_area: float = 0., timber_charred_depth=None, timber_charring_rate=None,\n",
    "        timber_hc: float = None, timber_density: float = None, timber_depth: float = None,\n",
    "        timber_solver_tol: float = None, timber_solver_ilim: float = None, occupancy_type: str = None,\n",
    "        car_cluster_size: int = None,\n",
    ") -> tuple:\n",
    "    # Make the longest dimension between (room_depth, room_breadth) as room_depth\n",
    "    if room_depth < room_breadth:\n",
    "        room_depth += room_breadth\n",
    "        room_breadth = room_depth - room_breadth\n",
    "        room_depth -= room_breadth\n",
    "\n",
    "    # todo: wip for car park!!!\n",
    "    if occupancy_type == '__CAR_PARK__':\n",
    "        fire_mode = 1  # force to travelling fire only\n",
    "        # work out new room_depth_car based on how many cars are involved in fire\n",
    "        if car_cluster_size is not None and car_cluster_size >= 0:\n",
    "            car_cluster_size = int(car_cluster_size) + 1\n",
    "            room_depth_original = float(room_depth)\n",
    "            parking_bay_width = 2.3\n",
    "            n_parking_bay_row = 2\n",
    "            average_area_per_parking_bay = 4283 / 202\n",
    "\n",
    "            room_depth = car_cluster_size * parking_bay_width / n_parking_bay_row\n",
    "            room_floor_area = car_cluster_size * average_area_per_parking_bay\n",
    "            room_breadth = room_floor_area / room_depth\n",
    "\n",
    "            beam_position_horizontal = (beam_position_horizontal / room_depth_original) * room_depth\n",
    "\n",
    "    window_open_fraction = (\n",
    "            window_open_fraction * (1 - window_open_fraction_permanent) + window_open_fraction_permanent\n",
    "    )\n",
    "\n",
    "    # Fix ventilation opening size, so it doesn't exceed wall area\n",
    "    if window_height > room_height:\n",
    "        window_height = room_height\n",
    "\n",
    "    # Calculate fire time, this is used for all fire curves in the calculation\n",
    "    fire_time = np.arange(0, fire_time_duration + fire_time_step, fire_time_step, dtype=float)\n",
    "\n",
    "    # Calculate ISO 834 fire temperature\n",
    "    # fire_time_iso834 = fire_time\n",
    "    # fire_temperature_iso834 = (345.0 * np.log10((fire_time / 60.0) * 8.0 + 1.0) + 20.0) + 273.15  # in [K]\n",
    "\n",
    "    # initialise solver iteration count for timber fuel contribution\n",
    "    timber_solver_iter_count = -1\n",
    "    timber_exposed_duration = 0  # initial condition, timber exposed duration\n",
    "    _fire_load_density_ = float(fire_load_density)  # preserve original fire load density\n",
    "\n",
    "    while True:\n",
    "        timber_solver_iter_count += 1\n",
    "        # the following `if` decide whether to calculate `timber_charred_depth_i` from `timber_charring_rate` or\n",
    "        if (\n",
    "                timber_exposed_area is not None and\n",
    "                timber_exposed_area > 0 and\n",
    "                (timber_charred_depth is not None or timber_charring_rate is not None)\n",
    "        ):\n",
    "            if timber_charred_depth is None:\n",
    "                # calculate from timber charring rate\n",
    "                if isinstance(timber_charring_rate, (float, int)):\n",
    "                    timber_charring_rate_i = timber_charring_rate\n",
    "                elif isinstance(timber_charring_rate, Callable):\n",
    "                    timber_charring_rate_i = timber_charring_rate(timber_exposed_duration)\n",
    "                else:\n",
    "                    raise TypeError('`timber_charring_rate_i` is not numerical nor Callable type')\n",
    "                timber_charring_rate_i *= 1. / 1000.  # [mm/min] -> [m/min]\n",
    "                timber_charring_rate_i *= 1. / 60.  # [m/min] -> [m/s]\n",
    "                timber_charred_depth_i = timber_charring_rate_i * timber_exposed_duration\n",
    "            else:\n",
    "                # calculate from timber charred depth\n",
    "                if isinstance(timber_charred_depth, (float, int)):\n",
    "                    timber_charred_depth_i = timber_charred_depth\n",
    "                elif isinstance(timber_charred_depth, Callable):\n",
    "                    timber_charred_depth_i = timber_charred_depth(timber_exposed_duration)\n",
    "                else:\n",
    "                    raise TypeError('`timber_charring_rate_i` is not numerical nor Callable type')\n",
    "                timber_charred_depth_i /= 1000.\n",
    "\n",
    "            # make sure the calculated charred depth does not exceed the available timber depth\n",
    "            if timber_depth is not None:\n",
    "                timber_charred_depth_i = min(timber_charred_depth_i, timber_depth)\n",
    "\n",
    "            timber_charred_volume = timber_charred_depth_i * timber_exposed_area\n",
    "            timber_charred_mass = timber_density * timber_charred_volume\n",
    "            timber_fire_load = timber_charred_mass * timber_hc\n",
    "            timber_fire_load_density = timber_fire_load / (room_breadth * room_depth)\n",
    "        else:\n",
    "            timber_charred_volume = np.nan\n",
    "            timber_charred_depth_i = np.nan\n",
    "            timber_charred_mass = np.nan\n",
    "            timber_fire_load = np.nan\n",
    "            timber_fire_load_density = np.nan\n",
    "\n",
    "        if np.isnan(timber_fire_load_density):\n",
    "            fire_load_density = _fire_load_density_\n",
    "        else:\n",
    "            fire_load_density = _fire_load_density_ + timber_fire_load_density\n",
    "\n",
    "        # To check what design fire to use\n",
    "        fire_type = decide_fire(\n",
    "            window_height=window_height, window_width=window_width, window_open_fraction=window_open_fraction,\n",
    "            room_breadth=room_breadth, room_depth=room_depth, room_height=room_height, fire_mode=fire_mode,\n",
    "            fire_load_density=fire_load_density, fire_combustion_efficiency=fire_combustion_efficiency,\n",
    "            fire_hrr_density=fire_hrr_density, fire_spread_speed=fire_spread_speed\n",
    "        )\n",
    "\n",
    "        # To calculate design fire temperature\n",
    "        fire_temperature, beam_position_horizontal, t1, t2, t3 = evaluate_fire_temperature(\n",
    "            window_height=window_height, window_width=window_width, window_open_fraction=window_open_fraction,\n",
    "            room_breadth=room_breadth, room_depth=room_depth, room_height=room_height,\n",
    "            room_wall_thermal_inertia=room_wall_thermal_inertia, fire_tlim=fire_tlim, fire_type=fire_type,\n",
    "            fire_time=fire_time, fire_nft_limit=fire_nft_limit, fire_load_density=fire_load_density,\n",
    "            fire_combustion_efficiency=fire_combustion_efficiency, fire_hrr_density=fire_hrr_density,\n",
    "            fire_spread_speed=fire_spread_speed, fire_t_alpha=fire_t_alpha, fire_gamma_fi_q=fire_gamma_fi_q,\n",
    "            beam_position_vertical=beam_position_vertical, beam_position_horizontal=beam_position_horizontal\n",
    "        )\n",
    "\n",
    "        # To solve protection thickness at critical temperature\n",
    "        # inputs.update(solve_protection_thickness(**inputs))\n",
    "        (\n",
    "            solver_steel_temperature_solved, solver_time_critical_temp_solved, solver_protection_thickness,\n",
    "            solver_iter_count\n",
    "        ) = solve_protection_thickness(\n",
    "            fire_time=fire_time, fire_temperature=fire_temperature, beam_cross_section_area=beam_cross_section_area,\n",
    "            beam_rho=beam_rho, protection_k=protection_k, protection_rho=protection_rho, protection_c=protection_c,\n",
    "            protection_protected_perimeter=protection_protected_perimeter,\n",
    "            solver_temperature_goal=solver_temperature_goal, solver_max_iter=solver_max_iter,\n",
    "            solver_thickness_ubound=solver_thickness_ubound, solver_thickness_lbound=solver_thickness_lbound,\n",
    "            solver_tol=solver_tol\n",
    "        )\n",
    "\n",
    "        # To solve time equivalence in ISO 834\n",
    "        solver_time_equivalence_solved = solve_time_equivalence_iso834(\n",
    "            fire_time=fire_time, beam_cross_section_area=beam_cross_section_area, beam_rho=beam_rho,\n",
    "            protection_k=protection_k, protection_rho=protection_rho, protection_c=protection_c,\n",
    "            protection_protected_perimeter=protection_protected_perimeter,\n",
    "            solver_temperature_goal=solver_temperature_goal, solver_protection_thickness=solver_protection_thickness,\n",
    "            phi_teq=phi_teq\n",
    "        )\n",
    "\n",
    "        # additional fuel contribution from timber\n",
    "        if timber_exposed_area <= 0 or timber_exposed_area is None:  # no timber exposed\n",
    "            # Exit timber fuel contribution solver if:\n",
    "            #     1. no timber exposed\n",
    "            #     2. timber exposed area undefined\n",
    "            break\n",
    "        elif timber_solver_iter_count >= timber_solver_ilim:\n",
    "            solver_convergence_status = np.nan\n",
    "            solver_time_critical_temp_solved = np.nan\n",
    "            solver_time_equivalence_solved = np.nan\n",
    "            solver_steel_temperature_solved = np.nan\n",
    "            solver_protection_thickness = np.nan\n",
    "            solver_iter_count = np.nan\n",
    "            timber_exposed_duration = np.nan\n",
    "            break\n",
    "        elif not -np.inf < solver_protection_thickness < np.inf:\n",
    "            # no protection thickness solution\n",
    "            timber_exposed_duration = solver_protection_thickness\n",
    "            break\n",
    "        elif abs(timber_exposed_duration - solver_time_equivalence_solved) <= timber_solver_tol:\n",
    "            # convergence sought successfully\n",
    "            break\n",
    "        else:\n",
    "            timber_exposed_duration = solver_time_equivalence_solved\n",
    "\n",
    "    timber_charring_rate = timber_charred_depth_i / timber_exposed_duration if timber_exposed_duration else 0\n",
    "    timber_exposed_duration = timber_exposed_duration\n",
    "    timber_solver_iter_count = timber_solver_iter_count\n",
    "    timber_fire_load = timber_fire_load\n",
    "    timber_charred_depth = timber_charred_depth_i\n",
    "\n",
    "    return (\n",
    "        fire_time, fire_temperature, solver_time_equivalence_solved, index, fire_type, t1, t2, t3,\n",
    "        solver_steel_temperature_solved, solver_time_critical_temp_solved, solver_protection_thickness,\n",
    "        solver_iter_count, solver_time_equivalence_solved, timber_charring_rate, timber_exposed_duration,\n",
    "        timber_solver_iter_count, timber_fire_load, timber_charred_depth, timber_charred_mass, timber_charred_volume,\n",
    "    )\n"
   ],
   "metadata": {
    "collapsed": false,
    "ExecuteTime": {
     "end_time": "2023-11-15T00:54:05.366142100Z",
     "start_time": "2023-11-15T00:54:05.334565300Z"
    }
   },
   "id": "827f11d163610ade"
  },
  {
   "cell_type": "code",
   "execution_count": 35,
   "outputs": [],
   "source": [
    "_ = getfullargspec(teq_main)\n",
    "keys = tuple(_.args)\n",
    "defaults = _.defaults"
   ],
   "metadata": {
    "collapsed": false,
    "ExecuteTime": {
     "end_time": "2023-11-15T00:51:32.074689Z",
     "start_time": "2023-11-15T00:51:32.042418300Z"
    }
   },
   "id": "bb2827f90dd5ec0b"
  },
  {
   "cell_type": "code",
   "execution_count": 36,
   "outputs": [],
   "source": [
    "indices = (990, 991, 992)"
   ],
   "metadata": {
    "collapsed": false,
    "ExecuteTime": {
     "end_time": "2023-11-15T00:51:32.074689Z",
     "start_time": "2023-11-15T00:51:32.043004900Z"
    }
   },
   "id": "edd53cb5ebda2cd5"
  },
  {
   "cell_type": "code",
   "execution_count": 50,
   "outputs": [],
   "source": [
    "fp_save_fires = r'C:\\Users\\ian\\Desktop\\sfeprapy_test\\test\\CASE_1.fires.csv'\n",
    "data_fires = dict()\n",
    "for i in data_out:\n",
    "    if i['index'] in indices:\n",
    "        kwargs_all = {**i, **data['CASE_1']}\n",
    "        kwargs = {k: v for k, v in kwargs_all.items() if k in keys}\n",
    "        t, T, t_eq, *_ = teq_main(**kwargs)\n",
    "        if 'time' not in data_fires.keys():\n",
    "            data_fires['time'] = t\n",
    "        data_fires[f'{i[\"index\"]}'] = T\n",
    "\n",
    "dict_of_ndarray_to_csv(fp_save_fires, data_fires)"
   ],
   "metadata": {
    "collapsed": false,
    "ExecuteTime": {
     "end_time": "2023-11-15T01:01:53.409354Z",
     "start_time": "2023-11-15T01:01:53.391726900Z"
    }
   },
   "id": "5ecd3173d64bf08c"
  },
  {
   "cell_type": "code",
   "execution_count": null,
   "outputs": [],
   "source": [],
   "metadata": {
    "collapsed": false,
    "ExecuteTime": {
     "end_time": "2023-11-15T00:52:14.026242Z",
     "start_time": "2023-11-15T00:52:14.026242Z"
    }
   },
   "id": "bf52c7a11e6d1220"
  }
 ],
 "metadata": {
  "kernelspec": {
   "display_name": "Python 3",
   "language": "python",
   "name": "python3"
  },
  "language_info": {
   "codemirror_mode": {
    "name": "ipython",
    "version": 2
   },
   "file_extension": ".py",
   "mimetype": "text/x-python",
   "name": "python",
   "nbconvert_exporter": "python",
   "pygments_lexer": "ipython2",
   "version": "2.7.6"
  }
 },
 "nbformat": 4,
 "nbformat_minor": 5
}
